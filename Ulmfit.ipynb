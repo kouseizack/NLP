{
  "nbformat": 4,
  "nbformat_minor": 0,
  "metadata": {
    "colab": {
      "name": "Ulmfit.ipynb",
      "provenance": [],
      "collapsed_sections": [],
      "authorship_tag": "ABX9TyM/m97Iz/JjhVbP/yG5PRyx",
      "include_colab_link": true
    },
    "kernelspec": {
      "name": "python3",
      "display_name": "Python 3"
    },
    "accelerator": "GPU"
  },
  "cells": [
    {
      "cell_type": "markdown",
      "metadata": {
        "id": "view-in-github",
        "colab_type": "text"
      },
      "source": [
        "<a href=\"https://colab.research.google.com/github/kouseizack/NLP/blob/master/Ulmfit.ipynb\" target=\"_parent\"><img src=\"https://colab.research.google.com/assets/colab-badge.svg\" alt=\"Open In Colab\"/></a>"
      ]
    },
    {
      "cell_type": "code",
      "metadata": {
        "id": "D6bi4iV8YYA9",
        "colab_type": "code",
        "colab": {
          "base_uri": "https://localhost:8080/",
          "height": 128
        },
        "outputId": "6573264a-6494-452b-b547-d611dbf0d16e"
      },
      "source": [
        "from google.colab import drive\n",
        "drive.mount('/content/drive')"
      ],
      "execution_count": null,
      "outputs": [
        {
          "output_type": "stream",
          "text": [
            "Go to this URL in a browser: https://accounts.google.com/o/oauth2/auth?client_id=947318989803-6bn6qk8qdgf4n4g3pfee6491hc0brc4i.apps.googleusercontent.com&redirect_uri=urn%3aietf%3awg%3aoauth%3a2.0%3aoob&response_type=code&scope=email%20https%3a%2f%2fwww.googleapis.com%2fauth%2fdocs.test%20https%3a%2f%2fwww.googleapis.com%2fauth%2fdrive%20https%3a%2f%2fwww.googleapis.com%2fauth%2fdrive.photos.readonly%20https%3a%2f%2fwww.googleapis.com%2fauth%2fpeopleapi.readonly\n",
            "\n",
            "Enter your authorization code:\n",
            "··········\n",
            "Mounted at /content/drive\n"
          ],
          "name": "stdout"
        }
      ]
    },
    {
      "cell_type": "code",
      "metadata": {
        "id": "FyXafYu3ZU8d",
        "colab_type": "code",
        "colab": {
          "base_uri": "https://localhost:8080/",
          "height": 35
        },
        "outputId": "e1b358b0-335f-439f-8d64-5a1b688d0eb9"
      },
      "source": [
        "cd /content/drive/My Drive/ulmfit"
      ],
      "execution_count": null,
      "outputs": [
        {
          "output_type": "stream",
          "text": [
            "/content/drive/My Drive/ulmfit\n"
          ],
          "name": "stdout"
        }
      ]
    },
    {
      "cell_type": "code",
      "metadata": {
        "id": "o5lJLZ8JZwhM",
        "colab_type": "code",
        "colab": {
          "base_uri": "https://localhost:8080/",
          "height": 74
        },
        "outputId": "2aea5504-d5a3-4e6b-a7b1-0ddfa9794564"
      },
      "source": [
        "import numpy as np # linear algebra\n",
        "import pandas as pd # data processing, CSV file I/O (e.g. pd.read_csv)\n",
        "import nltk #NLTK(Natural Language Toolkit)\n",
        "from nltk.corpus import stopwords #NLTK(Natural Language Toolkit) in python has a list of stopwords stored in 16 different languages.\n",
        "from nltk.tokenize import word_tokenize# To tokenize words\n",
        "import re\n",
        "import seaborn as sns\n",
        "from nltk.tokenize import RegexpTokenizer\n",
        "from nltk.stem import WordNetLemmatizer\n",
        "from nltk.stem.porter import PorterStemmer\n",
        "import matplotlib.pyplot as plt # data visualization\n",
        "%matplotlib inline\n",
        "import fastai\n",
        "from fastai.text import * \n",
        "from functools import partial\n",
        "import io\n",
        "import os"
      ],
      "execution_count": null,
      "outputs": [
        {
          "output_type": "stream",
          "text": [
            "/usr/local/lib/python3.6/dist-packages/statsmodels/tools/_testing.py:19: FutureWarning: pandas.util.testing is deprecated. Use the functions in the public API at pandas.testing instead.\n",
            "  import pandas.util.testing as tm\n"
          ],
          "name": "stderr"
        }
      ]
    },
    {
      "cell_type": "code",
      "metadata": {
        "id": "yan96iGEARyR",
        "colab_type": "code",
        "colab": {}
      },
      "source": [
        "from fastai.text import *\n",
        "from sklearn.model_selection import train_test_split\n",
        "from sklearn.metrics import confusion_matrix, accuracy_score\n",
        "from sklearn.utils.multiclass import unique_labels"
      ],
      "execution_count": null,
      "outputs": []
    },
    {
      "cell_type": "code",
      "metadata": {
        "id": "VRzT46o5Aoeg",
        "colab_type": "code",
        "colab": {
          "base_uri": "https://localhost:8080/",
          "height": 443
        },
        "outputId": "f45d07c1-44ee-4980-e66e-cbfe45836b37"
      },
      "source": [
        "df = pd.read_csv('Tweets.csv')\n",
        "df.head()"
      ],
      "execution_count": null,
      "outputs": [
        {
          "output_type": "execute_result",
          "data": {
            "text/html": [
              "<div>\n",
              "<style scoped>\n",
              "    .dataframe tbody tr th:only-of-type {\n",
              "        vertical-align: middle;\n",
              "    }\n",
              "\n",
              "    .dataframe tbody tr th {\n",
              "        vertical-align: top;\n",
              "    }\n",
              "\n",
              "    .dataframe thead th {\n",
              "        text-align: right;\n",
              "    }\n",
              "</style>\n",
              "<table border=\"1\" class=\"dataframe\">\n",
              "  <thead>\n",
              "    <tr style=\"text-align: right;\">\n",
              "      <th></th>\n",
              "      <th>tweet_id</th>\n",
              "      <th>airline_sentiment</th>\n",
              "      <th>airline_sentiment_confidence</th>\n",
              "      <th>negativereason</th>\n",
              "      <th>negativereason_confidence</th>\n",
              "      <th>airline</th>\n",
              "      <th>airline_sentiment_gold</th>\n",
              "      <th>name</th>\n",
              "      <th>negativereason_gold</th>\n",
              "      <th>retweet_count</th>\n",
              "      <th>text</th>\n",
              "      <th>tweet_coord</th>\n",
              "      <th>tweet_created</th>\n",
              "      <th>tweet_location</th>\n",
              "      <th>user_timezone</th>\n",
              "    </tr>\n",
              "  </thead>\n",
              "  <tbody>\n",
              "    <tr>\n",
              "      <th>0</th>\n",
              "      <td>570306133677760513</td>\n",
              "      <td>neutral</td>\n",
              "      <td>1.0000</td>\n",
              "      <td>NaN</td>\n",
              "      <td>NaN</td>\n",
              "      <td>Virgin America</td>\n",
              "      <td>NaN</td>\n",
              "      <td>cairdin</td>\n",
              "      <td>NaN</td>\n",
              "      <td>0</td>\n",
              "      <td>@VirginAmerica What @dhepburn said.</td>\n",
              "      <td>NaN</td>\n",
              "      <td>2015-02-24 11:35:52 -0800</td>\n",
              "      <td>NaN</td>\n",
              "      <td>Eastern Time (US &amp; Canada)</td>\n",
              "    </tr>\n",
              "    <tr>\n",
              "      <th>1</th>\n",
              "      <td>570301130888122368</td>\n",
              "      <td>positive</td>\n",
              "      <td>0.3486</td>\n",
              "      <td>NaN</td>\n",
              "      <td>0.0000</td>\n",
              "      <td>Virgin America</td>\n",
              "      <td>NaN</td>\n",
              "      <td>jnardino</td>\n",
              "      <td>NaN</td>\n",
              "      <td>0</td>\n",
              "      <td>@VirginAmerica plus you've added commercials t...</td>\n",
              "      <td>NaN</td>\n",
              "      <td>2015-02-24 11:15:59 -0800</td>\n",
              "      <td>NaN</td>\n",
              "      <td>Pacific Time (US &amp; Canada)</td>\n",
              "    </tr>\n",
              "    <tr>\n",
              "      <th>2</th>\n",
              "      <td>570301083672813571</td>\n",
              "      <td>neutral</td>\n",
              "      <td>0.6837</td>\n",
              "      <td>NaN</td>\n",
              "      <td>NaN</td>\n",
              "      <td>Virgin America</td>\n",
              "      <td>NaN</td>\n",
              "      <td>yvonnalynn</td>\n",
              "      <td>NaN</td>\n",
              "      <td>0</td>\n",
              "      <td>@VirginAmerica I didn't today... Must mean I n...</td>\n",
              "      <td>NaN</td>\n",
              "      <td>2015-02-24 11:15:48 -0800</td>\n",
              "      <td>Lets Play</td>\n",
              "      <td>Central Time (US &amp; Canada)</td>\n",
              "    </tr>\n",
              "    <tr>\n",
              "      <th>3</th>\n",
              "      <td>570301031407624196</td>\n",
              "      <td>negative</td>\n",
              "      <td>1.0000</td>\n",
              "      <td>Bad Flight</td>\n",
              "      <td>0.7033</td>\n",
              "      <td>Virgin America</td>\n",
              "      <td>NaN</td>\n",
              "      <td>jnardino</td>\n",
              "      <td>NaN</td>\n",
              "      <td>0</td>\n",
              "      <td>@VirginAmerica it's really aggressive to blast...</td>\n",
              "      <td>NaN</td>\n",
              "      <td>2015-02-24 11:15:36 -0800</td>\n",
              "      <td>NaN</td>\n",
              "      <td>Pacific Time (US &amp; Canada)</td>\n",
              "    </tr>\n",
              "    <tr>\n",
              "      <th>4</th>\n",
              "      <td>570300817074462722</td>\n",
              "      <td>negative</td>\n",
              "      <td>1.0000</td>\n",
              "      <td>Can't Tell</td>\n",
              "      <td>1.0000</td>\n",
              "      <td>Virgin America</td>\n",
              "      <td>NaN</td>\n",
              "      <td>jnardino</td>\n",
              "      <td>NaN</td>\n",
              "      <td>0</td>\n",
              "      <td>@VirginAmerica and it's a really big bad thing...</td>\n",
              "      <td>NaN</td>\n",
              "      <td>2015-02-24 11:14:45 -0800</td>\n",
              "      <td>NaN</td>\n",
              "      <td>Pacific Time (US &amp; Canada)</td>\n",
              "    </tr>\n",
              "  </tbody>\n",
              "</table>\n",
              "</div>"
            ],
            "text/plain": [
              "             tweet_id  ...               user_timezone\n",
              "0  570306133677760513  ...  Eastern Time (US & Canada)\n",
              "1  570301130888122368  ...  Pacific Time (US & Canada)\n",
              "2  570301083672813571  ...  Central Time (US & Canada)\n",
              "3  570301031407624196  ...  Pacific Time (US & Canada)\n",
              "4  570300817074462722  ...  Pacific Time (US & Canada)\n",
              "\n",
              "[5 rows x 15 columns]"
            ]
          },
          "metadata": {
            "tags": []
          },
          "execution_count": 7
        }
      ]
    },
    {
      "cell_type": "code",
      "metadata": {
        "id": "0lRbz_L7BrhE",
        "colab_type": "code",
        "colab": {
          "base_uri": "https://localhost:8080/",
          "height": 272
        },
        "outputId": "242705d3-c7bf-412f-f060-fc1c41bf0667"
      },
      "source": [
        "new_pd = df[['airline_sentiment' , 'airline_sentiment_confidence' , 'negativereason' , 'negativereason_confidence' , 'airline' , 'text']]\n",
        "new_pd.head()\n",
        "print (new_pd.iloc[0:])"
      ],
      "execution_count": null,
      "outputs": [
        {
          "output_type": "stream",
          "text": [
            "      airline_sentiment  ...                                               text\n",
            "0               neutral  ...                @VirginAmerica What @dhepburn said.\n",
            "1              positive  ...  @VirginAmerica plus you've added commercials t...\n",
            "2               neutral  ...  @VirginAmerica I didn't today... Must mean I n...\n",
            "3              negative  ...  @VirginAmerica it's really aggressive to blast...\n",
            "4              negative  ...  @VirginAmerica and it's a really big bad thing...\n",
            "...                 ...  ...                                                ...\n",
            "14635          positive  ...  @AmericanAir thank you we got on a different f...\n",
            "14636          negative  ...  @AmericanAir leaving over 20 minutes Late Flig...\n",
            "14637           neutral  ...  @AmericanAir Please bring American Airlines to...\n",
            "14638          negative  ...  @AmericanAir you have my money, you change my ...\n",
            "14639           neutral  ...  @AmericanAir we have 8 ppl so we need 2 know h...\n",
            "\n",
            "[14640 rows x 6 columns]\n"
          ],
          "name": "stdout"
        }
      ]
    },
    {
      "cell_type": "code",
      "metadata": {
        "id": "70K4nIBaG7L3",
        "colab_type": "code",
        "colab": {
          "base_uri": "https://localhost:8080/",
          "height": 643
        },
        "outputId": "32ee5b62-95ca-467d-9b49-94a40f5774a7"
      },
      "source": [
        "de = new_pd\n",
        "n_neu = 0\n",
        "n_pos = 0\n",
        "n_neg = 0\n",
        "pos_sentiment = []\n",
        "neg_sentiment = []\n",
        "neu_sentiment = []\n",
        "for i in range(len(de)):\n",
        "  if(de.loc[i , \"airline_sentiment\"] == \"neutral\"):\n",
        "    pos_sentiment.append(de.loc[i , \"airline_sentiment_confidence\"])\n",
        "    n_neu += 1\n",
        "  elif(de.loc[i , \"airline_sentiment\"] == \"positive\"):\n",
        "    neg_sentiment.append(de.loc[i , \"airline_sentiment_confidence\"])\n",
        "    n_pos += 1\n",
        "  elif(de.loc[i ,\"airline_sentiment\"] == \"negative\"):\n",
        "    neu_sentiment.append(de.loc[i , \"airline_sentiment_confidence\"])\n",
        "    n_neg += 1\n",
        "x = [n_neu , n_pos , n_neg]\n",
        "print (len(de) , x)\n",
        "y = [\"neutral\" , \"positive\" , \"negative\"]\n",
        "plt.figure(figsize = (10, 10))\n",
        "plt.bar(np.arange(len(x)),x)\n",
        "plt.xticks(np.arange(len(x)), y)\n",
        "plt.xlabel('Sentiment')\n",
        "plt.ylabel('Occurences')"
      ],
      "execution_count": null,
      "outputs": [
        {
          "output_type": "stream",
          "text": [
            "14640 [3099, 2363, 9178]\n"
          ],
          "name": "stdout"
        },
        {
          "output_type": "execute_result",
          "data": {
            "text/plain": [
              "Text(0, 0.5, 'Occurences')"
            ]
          },
          "metadata": {
            "tags": []
          },
          "execution_count": 9
        },
        {
          "output_type": "display_data",
          "data": {
            "image/png": "[encoded data removed]",
            "text/plain": [
              "<Figure size 720x720 with 1 Axes>"
            ]
          },
          "metadata": {
            "tags": [],
            "needs_background": "light"
          }
        }
      ]
    },
    {
      "cell_type": "code",
      "metadata": {
        "id": "MGf8wC1xMixf",
        "colab_type": "code",
        "colab": {
          "base_uri": "https://localhost:8080/",
          "height": 335
        },
        "outputId": "15f86798-6e74-4559-e5d4-e46c18f4fa0f"
      },
      "source": [
        "de.groupby(['airline_sentiment_confidence', 'airline_sentiment']).size().unstack().plot(kind='line', stacked=False)\n",
        "neu = np.array(neu_sentiment)\n",
        "nu = neu.mean()\n",
        "nu_var = neu.var()\n",
        "\n",
        "neg = np.array(neg_sentiment)\n",
        "ng = neg.mean()\n",
        "ng_var = neg.var()\n",
        "\n",
        "pos = np.array(pos_sentiment)\n",
        "po = pos.mean()\n",
        "ps_var = pos.var()\n",
        "\n",
        "print (\"positive-> \", \"var: \" , ps_var , \"mean: \" , po)\n",
        "print (\"positive-> \", \"var: \" , ng_var , \"mean: \" , ng)\n",
        "print (\"positive-> \", \"var: \" , nu_var , \"mean: \" , nu)\n"
      ],
      "execution_count": null,
      "outputs": [
        {
          "output_type": "stream",
          "text": [
            "positive->  var:  0.03443417306392334 mean:  0.8233033559212648\n",
            "positive->  var:  0.03219866076940862 mean:  0.872038933559035\n",
            "positive->  var:  0.019071880881577095 mean:  0.9333653192416647\n"
          ],
          "name": "stdout"
        },
        {
          "output_type": "display_data",
          "data": {
            "image/png": "[encoded data removed]",
            "text/plain": [
              "<Figure size 432x288 with 1 Axes>"
            ]
          },
          "metadata": {
            "tags": [],
            "needs_background": "light"
          }
        }
      ]
    },
    {
      "cell_type": "code",
      "metadata": {
        "id": "dSDQfNJCyxhI",
        "colab_type": "code",
        "colab": {
          "base_uri": "https://localhost:8080/",
          "height": 183
        },
        "outputId": "bde33c99-9dcc-4f2e-f6ff-ed381b47bab4"
      },
      "source": [
        "de['text'] = de['text'].str.replace(\"[^a-zA-Z]\", \" \")\n",
        "import nltk\n",
        "nltk.download('stopwords')\n",
        "stop_words = stopwords.words('english')"
      ],
      "execution_count": null,
      "outputs": [
        {
          "output_type": "stream",
          "text": [
            "[nltk_data] Downloading package stopwords to /root/nltk_data...\n",
            "[nltk_data]   Unzipping corpora/stopwords.zip.\n"
          ],
          "name": "stdout"
        },
        {
          "output_type": "stream",
          "text": [
            "/usr/local/lib/python3.6/dist-packages/ipykernel_launcher.py:1: SettingWithCopyWarning: \n",
            "A value is trying to be set on a copy of a slice from a DataFrame.\n",
            "Try using .loc[row_indexer,col_indexer] = value instead\n",
            "\n",
            "See the caveats in the documentation: https://pandas.pydata.org/pandas-docs/stable/user_guide/indexing.html#returning-a-view-versus-a-copy\n",
            "  \"\"\"Entry point for launching an IPython kernel.\n"
          ],
          "name": "stderr"
        }
      ]
    },
    {
      "cell_type": "code",
      "metadata": {
        "id": "yt0-ArB8zacJ",
        "colab_type": "code",
        "colab": {
          "base_uri": "https://localhost:8080/",
          "height": 146
        },
        "outputId": "2ba66bd4-4126-4a3f-b139-4f77b26c1018"
      },
      "source": [
        "tokenized_doc = de['text'].apply(lambda x: x.split())\n",
        "\n",
        "# remove stop-words \n",
        "tokenized_doc = tokenized_doc.apply(lambda x: [item for item in x if item not in stop_words])\n",
        "\n",
        "# de-tokenization \n",
        "detokenized_doc = [] \n",
        "for i in range(len(df)): \n",
        "    t = ' '.join(tokenized_doc[i]) \n",
        "    detokenized_doc.append(t) \n",
        "\n",
        "de['text'] = detokenized_doc"
      ],
      "execution_count": null,
      "outputs": [
        {
          "output_type": "stream",
          "text": [
            "/usr/local/lib/python3.6/dist-packages/ipykernel_launcher.py:12: SettingWithCopyWarning: \n",
            "A value is trying to be set on a copy of a slice from a DataFrame.\n",
            "Try using .loc[row_indexer,col_indexer] = value instead\n",
            "\n",
            "See the caveats in the documentation: https://pandas.pydata.org/pandas-docs/stable/user_guide/indexing.html#returning-a-view-versus-a-copy\n",
            "  if sys.path[0] == '':\n"
          ],
          "name": "stderr"
        }
      ]
    },
    {
      "cell_type": "code",
      "metadata": {
        "id": "7Pxg_foitvqt",
        "colab_type": "code",
        "colab": {
          "base_uri": "https://localhost:8080/",
          "height": 285
        },
        "outputId": "1c3ac2d6-f61d-4d2e-a37c-2d1b784af913"
      },
      "source": [
        "de.head(5)"
      ],
      "execution_count": null,
      "outputs": [
        {
          "output_type": "execute_result",
          "data": {
            "text/html": [
              "<div>\n",
              "<style scoped>\n",
              "    .dataframe tbody tr th:only-of-type {\n",
              "        vertical-align: middle;\n",
              "    }\n",
              "\n",
              "    .dataframe tbody tr th {\n",
              "        vertical-align: top;\n",
              "    }\n",
              "\n",
              "    .dataframe thead th {\n",
              "        text-align: right;\n",
              "    }\n",
              "</style>\n",
              "<table border=\"1\" class=\"dataframe\">\n",
              "  <thead>\n",
              "    <tr style=\"text-align: right;\">\n",
              "      <th></th>\n",
              "      <th>airline_sentiment</th>\n",
              "      <th>airline_sentiment_confidence</th>\n",
              "      <th>negativereason</th>\n",
              "      <th>negativereason_confidence</th>\n",
              "      <th>airline</th>\n",
              "      <th>text</th>\n",
              "    </tr>\n",
              "  </thead>\n",
              "  <tbody>\n",
              "    <tr>\n",
              "      <th>0</th>\n",
              "      <td>neutral</td>\n",
              "      <td>1.0000</td>\n",
              "      <td>NaN</td>\n",
              "      <td>NaN</td>\n",
              "      <td>Virgin America</td>\n",
              "      <td>VirginAmerica What dhepburn said</td>\n",
              "    </tr>\n",
              "    <tr>\n",
              "      <th>1</th>\n",
              "      <td>positive</td>\n",
              "      <td>0.3486</td>\n",
              "      <td>NaN</td>\n",
              "      <td>0.0000</td>\n",
              "      <td>Virgin America</td>\n",
              "      <td>VirginAmerica plus added commercials experienc...</td>\n",
              "    </tr>\n",
              "    <tr>\n",
              "      <th>2</th>\n",
              "      <td>neutral</td>\n",
              "      <td>0.6837</td>\n",
              "      <td>NaN</td>\n",
              "      <td>NaN</td>\n",
              "      <td>Virgin America</td>\n",
              "      <td>VirginAmerica I today Must mean I need take an...</td>\n",
              "    </tr>\n",
              "    <tr>\n",
              "      <th>3</th>\n",
              "      <td>negative</td>\n",
              "      <td>1.0000</td>\n",
              "      <td>Bad Flight</td>\n",
              "      <td>0.7033</td>\n",
              "      <td>Virgin America</td>\n",
              "      <td>VirginAmerica really aggressive blast obnoxiou...</td>\n",
              "    </tr>\n",
              "    <tr>\n",
              "      <th>4</th>\n",
              "      <td>negative</td>\n",
              "      <td>1.0000</td>\n",
              "      <td>Can't Tell</td>\n",
              "      <td>1.0000</td>\n",
              "      <td>Virgin America</td>\n",
              "      <td>VirginAmerica really big bad thing</td>\n",
              "    </tr>\n",
              "  </tbody>\n",
              "</table>\n",
              "</div>"
            ],
            "text/plain": [
              "  airline_sentiment  ...                                               text\n",
              "0           neutral  ...                   VirginAmerica What dhepburn said\n",
              "1          positive  ...  VirginAmerica plus added commercials experienc...\n",
              "2           neutral  ...  VirginAmerica I today Must mean I need take an...\n",
              "3          negative  ...  VirginAmerica really aggressive blast obnoxiou...\n",
              "4          negative  ...                 VirginAmerica really big bad thing\n",
              "\n",
              "[5 rows x 6 columns]"
            ]
          },
          "metadata": {
            "tags": []
          },
          "execution_count": 13
        }
      ]
    },
    {
      "cell_type": "code",
      "metadata": {
        "id": "tpL5uxbVzqto",
        "colab_type": "code",
        "colab": {}
      },
      "source": [
        "from sklearn.model_selection import train_test_split\n",
        "\n",
        "# split data into training and validation set\n",
        "df_trn, df_val = train_test_split(de, stratify = de['airline_sentiment'], test_size = 0.4, random_state = 12)"
      ],
      "execution_count": null,
      "outputs": []
    },
    {
      "cell_type": "code",
      "metadata": {
        "id": "2hLWNU28t9P_",
        "colab_type": "code",
        "colab": {
          "base_uri": "https://localhost:8080/",
          "height": 54
        },
        "outputId": "10a45345-6b1a-49f2-c2f6-10b228d5dd08"
      },
      "source": [
        "df_trn.head(5)\n",
        "df_trn = df_trn[['airline_sentiment' , 'text']]\n",
        "df_val = df_val[['airline_sentiment' , 'text']]\n",
        "df_trn.head(10)\n",
        "print (len(df_trn))\n",
        "df_tst = df_trn.sample(frac=0.2 , replace = True)\n",
        "print (len(df_trn) , len(df_tst))\n"
      ],
      "execution_count": null,
      "outputs": [
        {
          "output_type": "stream",
          "text": [
            "8784\n",
            "8784 1757\n"
          ],
          "name": "stdout"
        }
      ]
    },
    {
      "cell_type": "code",
      "metadata": {
        "id": "Ju1qeofD3QIM",
        "colab_type": "code",
        "colab": {
          "base_uri": "https://localhost:8080/",
          "height": 371
        },
        "outputId": "ceeff5db-3873-490d-a7b8-a41e7e953c72"
      },
      "source": [
        "data_lm = TextLMDataBunch.from_df(train_df = df_trn, valid_df = df_val , path = \"\")\n",
        "data_clas = TextClasDataBunch.from_df(path = \"\", train_df = df_trn, vocab=data_lm.train_ds.vocab, valid_df = df_val , text_cols = 'text', label_cols = 'airline_sentiment',bs=32)\n",
        "data_lm.show_batch()"
      ],
      "execution_count": null,
      "outputs": [
        {
          "output_type": "display_data",
          "data": {
            "text/html": [
              ""
            ],
            "text/plain": [
              "<IPython.core.display.HTML object>"
            ]
          },
          "metadata": {
            "tags": []
          }
        },
        {
          "output_type": "display_data",
          "data": {
            "text/html": [
              ""
            ],
            "text/plain": [
              "<IPython.core.display.HTML object>"
            ]
          },
          "metadata": {
            "tags": []
          }
        },
        {
          "output_type": "display_data",
          "data": {
            "text/html": [
              ""
            ],
            "text/plain": [
              "<IPython.core.display.HTML object>"
            ]
          },
          "metadata": {
            "tags": []
          }
        },
        {
          "output_type": "display_data",
          "data": {
            "text/html": [
              ""
            ],
            "text/plain": [
              "<IPython.core.display.HTML object>"
            ]
          },
          "metadata": {
            "tags": []
          }
        },
        {
          "output_type": "display_data",
          "data": {
            "text/html": [
              "<table border=\"1\" class=\"dataframe\">\n",
              "  <thead>\n",
              "    <tr style=\"text-align: right;\">\n",
              "      <th>idx</th>\n",
              "      <th>text</th>\n",
              "    </tr>\n",
              "  </thead>\n",
              "  <tbody>\n",
              "    <tr>\n",
              "      <td>0</td>\n",
              "      <td>much baggage check xxmaj international flights xxbos americanair point xxmaj say counter i clearly see site xxup aa agent loss words xxbos united xxmaj boeing xxmaj star xxmaj alliance short finals xxmaj heathrowairport l amazing xxunk morning xxmaj avgeek http co xxunk xxbos united xxmaj trying change flight booked hours ago online system charging fee per passenger could please help xxbos virginamerica i need receipt flight change xxmaj can send</td>\n",
              "    </tr>\n",
              "    <tr>\n",
              "      <td>1</td>\n",
              "      <td>xxbos united almost major accident ua xxmaj how passing information us waiting plane xxbos americanair ok xxmaj late xxmaj flight xxmaj and matter flight xxmaj cancelled xxmaj flighted morning i xxup yyz since xxup am xxbos southwestair awesome thank xxbos usairways thanks however i feel like system failed solution xxbos united still waiting find rep working hard upset wait tomorrow pm get xxunk xxbos southwestair bunch liars xxmaj cancelled xxmaj</td>\n",
              "    </tr>\n",
              "    <tr>\n",
              "      <td>2</td>\n",
              "      <td>xxunk xxmaj need confirmed xxup bna xxmaj been bumped day need home xxbos southwestair xxmaj adding xxup rr number xxmaj marriott stay hard xxmaj won take xxup rr number checkin xxmaj marriott phone xxup cs helpful xxbos usairways xxmaj new marketing song https co f lfulcbq let us know think http co xxunk xxbos jetblue xxmaj thanks credit hr delay i tell customer service means lot xxup you xxmaj thankful</td>\n",
              "    </tr>\n",
              "    <tr>\n",
              "      <td>3</td>\n",
              "      <td>united access dial makes faster xxbos jetblue tried us xxunk xxmaj do think i flying terminal xxmaj risk fine xxunk police official xxbos southwestair thank confirmation xxmaj maybe people flight xxunk xxunk xxbos americanair bet make screw right xxmaj things i need bag job grounded today xxunk xxbos southwestair may want direct people xxunk xxunk xxbos united xxmaj please help i xxmaj ethiopia adopting two year old child xxmaj have</td>\n",
              "    </tr>\n",
              "    <tr>\n",
              "      <td>4</td>\n",
              "      <td>flight going sit tarmac xxup forever xxbos usairways would give us option get plane instead sit hour half knew gate xxbos united xxmaj never get flight time hour delay earlier another hour delay connecting flight xxmaj makes straight delays xxbos usairways flight xxup fra xxup xxunk odd xxunk xxunk xxunk xxmaj frankfurt xxmaj is everything ok xxbos usairways flight delayed hours deadhead crew xxmaj lets make paying customers wait great</td>\n",
              "    </tr>\n",
              "  </tbody>\n",
              "</table>"
            ],
            "text/plain": [
              "<IPython.core.display.HTML object>"
            ]
          },
          "metadata": {
            "tags": []
          }
        }
      ]
    },
    {
      "cell_type": "code",
      "metadata": {
        "id": "sFUCP2X83rJZ",
        "colab_type": "code",
        "colab": {
          "base_uri": "https://localhost:8080/",
          "height": 482
        },
        "outputId": "06beb10d-256b-4b28-ae0e-ae67033e4207"
      },
      "source": [
        "learn = language_model_learner(data_lm, AWD_LSTM, pretrained = True, drop_mult=0.4)\n",
        "learn.lr_find(start_lr=1e-8, end_lr=1e2)\n",
        "learn.recorder.plot()"
      ],
      "execution_count": null,
      "outputs": [
        {
          "output_type": "stream",
          "text": [
            "Downloading https://s3.amazonaws.com/fast-ai-modelzoo/wt103-fwd.tgz\n"
          ],
          "name": "stdout"
        },
        {
          "output_type": "display_data",
          "data": {
            "text/html": [
              ""
            ],
            "text/plain": [
              "<IPython.core.display.HTML object>"
            ]
          },
          "metadata": {
            "tags": []
          }
        },
        {
          "output_type": "display_data",
          "data": {
            "text/html": [
              "\n",
              "    <div>\n",
              "        <style>\n",
              "            /* Turns off some styling */\n",
              "            progress {\n",
              "                /* gets rid of default border in Firefox and Opera. */\n",
              "                border: none;\n",
              "                /* Needs to be in here for Safari polyfill so background images work as expected. */\n",
              "                background-size: auto;\n",
              "            }\n",
              "            .progress-bar-interrupted, .progress-bar-interrupted::-webkit-progress-bar {\n",
              "                background: #F44336;\n",
              "            }\n",
              "        </style>\n",
              "      <progress value='3' class='' max='4' style='width:300px; height:20px; vertical-align: middle;'></progress>\n",
              "      75.00% [3/4 00:25<00:08]\n",
              "    </div>\n",
              "    \n",
              "<table border=\"1\" class=\"dataframe\">\n",
              "  <thead>\n",
              "    <tr style=\"text-align: left;\">\n",
              "      <th>epoch</th>\n",
              "      <th>train_loss</th>\n",
              "      <th>valid_loss</th>\n",
              "      <th>accuracy</th>\n",
              "      <th>time</th>\n",
              "    </tr>\n",
              "  </thead>\n",
              "  <tbody>\n",
              "    <tr>\n",
              "      <td>0</td>\n",
              "      <td>8.382586</td>\n",
              "      <td>#na#</td>\n",
              "      <td>00:08</td>\n",
              "    </tr>\n",
              "    <tr>\n",
              "      <td>1</td>\n",
              "      <td>8.295661</td>\n",
              "      <td>#na#</td>\n",
              "      <td>00:08</td>\n",
              "    </tr>\n",
              "    <tr>\n",
              "      <td>2</td>\n",
              "      <td>7.574995</td>\n",
              "      <td>#na#</td>\n",
              "      <td>00:08</td>\n",
              "    </tr>\n",
              "  </tbody>\n",
              "</table><p>\n",
              "\n",
              "    <div>\n",
              "        <style>\n",
              "            /* Turns off some styling */\n",
              "            progress {\n",
              "                /* gets rid of default border in Firefox and Opera. */\n",
              "                border: none;\n",
              "                /* Needs to be in here for Safari polyfill so background images work as expected. */\n",
              "                background-size: auto;\n",
              "            }\n",
              "            .progress-bar-interrupted, .progress-bar-interrupted::-webkit-progress-bar {\n",
              "                background: #F44336;\n",
              "            }\n",
              "        </style>\n",
              "      <progress value='13' class='' max='28' style='width:300px; height:20px; vertical-align: middle;'></progress>\n",
              "      46.43% [13/28 00:03<00:04 28.6839]\n",
              "    </div>\n",
              "    "
            ],
            "text/plain": [
              "<IPython.core.display.HTML object>"
            ]
          },
          "metadata": {
            "tags": []
          }
        },
        {
          "output_type": "stream",
          "text": [
            "LR Finder is complete, type {learner_name}.recorder.plot() to see the graph.\n"
          ],
          "name": "stdout"
        },
        {
          "output_type": "display_data",
          "data": {
            "image/png": "[encoded data removed]",
            "text/plain": [
              "<Figure size 432x288 with 1 Axes>"
            ]
          },
          "metadata": {
            "tags": [],
            "needs_background": "light"
          }
        }
      ]
    },
    {
      "cell_type": "code",
      "metadata": {
        "id": "ptDjE6yBcjIB",
        "colab_type": "code",
        "colab": {
          "base_uri": "https://localhost:8080/",
          "height": 78
        },
        "outputId": "8825ebc8-f5a2-4b0a-9450-41ae7c926e0a"
      },
      "source": [
        "learn = language_model_learner(data_lm, AWD_LSTM , pretrained = True, \n",
        "                               drop_mult=0.5)\n",
        "learn.fit_one_cycle(cyc_len=1, max_lr=1e-2, moms=(0.8, 0.7))"
      ],
      "execution_count": null,
      "outputs": [
        {
          "output_type": "display_data",
          "data": {
            "text/html": [
              "<table border=\"1\" class=\"dataframe\">\n",
              "  <thead>\n",
              "    <tr style=\"text-align: left;\">\n",
              "      <th>epoch</th>\n",
              "      <th>train_loss</th>\n",
              "      <th>valid_loss</th>\n",
              "      <th>accuracy</th>\n",
              "      <th>time</th>\n",
              "    </tr>\n",
              "  </thead>\n",
              "  <tbody>\n",
              "    <tr>\n",
              "      <td>0</td>\n",
              "      <td>6.591013</td>\n",
              "      <td>5.462779</td>\n",
              "      <td>0.139356</td>\n",
              "      <td>00:11</td>\n",
              "    </tr>\n",
              "  </tbody>\n",
              "</table>"
            ],
            "text/plain": [
              "<IPython.core.display.HTML object>"
            ]
          },
          "metadata": {
            "tags": []
          }
        }
      ]
    },
    {
      "cell_type": "code",
      "metadata": {
        "id": "1Deze9ihdbbT",
        "colab_type": "code",
        "colab": {
          "base_uri": "https://localhost:8080/",
          "height": 648
        },
        "outputId": "20a0041d-aa8b-4f5d-ed3b-a3591faa499e"
      },
      "source": [
        "learn.unfreeze()\n",
        "learn.fit_one_cycle(cyc_len=20, max_lr=1e-2, moms=(0.8, 0.7))"
      ],
      "execution_count": null,
      "outputs": [
        {
          "output_type": "display_data",
          "data": {
            "text/html": [
              "<table border=\"1\" class=\"dataframe\">\n",
              "  <thead>\n",
              "    <tr style=\"text-align: left;\">\n",
              "      <th>epoch</th>\n",
              "      <th>train_loss</th>\n",
              "      <th>valid_loss</th>\n",
              "      <th>accuracy</th>\n",
              "      <th>time</th>\n",
              "    </tr>\n",
              "  </thead>\n",
              "  <tbody>\n",
              "    <tr>\n",
              "      <td>0</td>\n",
              "      <td>5.138934</td>\n",
              "      <td>4.827569</td>\n",
              "      <td>0.203501</td>\n",
              "      <td>00:13</td>\n",
              "    </tr>\n",
              "    <tr>\n",
              "      <td>1</td>\n",
              "      <td>4.958466</td>\n",
              "      <td>4.680926</td>\n",
              "      <td>0.214908</td>\n",
              "      <td>00:13</td>\n",
              "    </tr>\n",
              "    <tr>\n",
              "      <td>2</td>\n",
              "      <td>4.762516</td>\n",
              "      <td>4.601954</td>\n",
              "      <td>0.220113</td>\n",
              "      <td>00:13</td>\n",
              "    </tr>\n",
              "    <tr>\n",
              "      <td>3</td>\n",
              "      <td>4.579434</td>\n",
              "      <td>4.626278</td>\n",
              "      <td>0.214239</td>\n",
              "      <td>00:13</td>\n",
              "    </tr>\n",
              "    <tr>\n",
              "      <td>4</td>\n",
              "      <td>4.355671</td>\n",
              "      <td>4.958786</td>\n",
              "      <td>0.181262</td>\n",
              "      <td>00:13</td>\n",
              "    </tr>\n",
              "    <tr>\n",
              "      <td>5</td>\n",
              "      <td>4.154058</td>\n",
              "      <td>4.733445</td>\n",
              "      <td>0.201128</td>\n",
              "      <td>00:13</td>\n",
              "    </tr>\n",
              "    <tr>\n",
              "      <td>6</td>\n",
              "      <td>3.816457</td>\n",
              "      <td>4.843653</td>\n",
              "      <td>0.204441</td>\n",
              "      <td>00:13</td>\n",
              "    </tr>\n",
              "    <tr>\n",
              "      <td>7</td>\n",
              "      <td>3.527061</td>\n",
              "      <td>4.964786</td>\n",
              "      <td>0.193398</td>\n",
              "      <td>00:13</td>\n",
              "    </tr>\n",
              "    <tr>\n",
              "      <td>8</td>\n",
              "      <td>3.206537</td>\n",
              "      <td>5.140672</td>\n",
              "      <td>0.198038</td>\n",
              "      <td>00:13</td>\n",
              "    </tr>\n",
              "    <tr>\n",
              "      <td>9</td>\n",
              "      <td>2.844232</td>\n",
              "      <td>5.339032</td>\n",
              "      <td>0.195853</td>\n",
              "      <td>00:13</td>\n",
              "    </tr>\n",
              "    <tr>\n",
              "      <td>10</td>\n",
              "      <td>2.467251</td>\n",
              "      <td>5.513996</td>\n",
              "      <td>0.191518</td>\n",
              "      <td>00:13</td>\n",
              "    </tr>\n",
              "    <tr>\n",
              "      <td>11</td>\n",
              "      <td>2.117971</td>\n",
              "      <td>5.666088</td>\n",
              "      <td>0.189227</td>\n",
              "      <td>00:13</td>\n",
              "    </tr>\n",
              "    <tr>\n",
              "      <td>12</td>\n",
              "      <td>1.805958</td>\n",
              "      <td>5.770179</td>\n",
              "      <td>0.191048</td>\n",
              "      <td>00:13</td>\n",
              "    </tr>\n",
              "    <tr>\n",
              "      <td>13</td>\n",
              "      <td>1.559857</td>\n",
              "      <td>5.802883</td>\n",
              "      <td>0.189826</td>\n",
              "      <td>00:13</td>\n",
              "    </tr>\n",
              "    <tr>\n",
              "      <td>14</td>\n",
              "      <td>1.430574</td>\n",
              "      <td>5.735372</td>\n",
              "      <td>0.183259</td>\n",
              "      <td>00:13</td>\n",
              "    </tr>\n",
              "    <tr>\n",
              "      <td>15</td>\n",
              "      <td>1.293725</td>\n",
              "      <td>5.809867</td>\n",
              "      <td>0.189767</td>\n",
              "      <td>00:13</td>\n",
              "    </tr>\n",
              "    <tr>\n",
              "      <td>16</td>\n",
              "      <td>1.183133</td>\n",
              "      <td>5.785257</td>\n",
              "      <td>0.191706</td>\n",
              "      <td>00:13</td>\n",
              "    </tr>\n",
              "    <tr>\n",
              "      <td>17</td>\n",
              "      <td>1.104814</td>\n",
              "      <td>5.781681</td>\n",
              "      <td>0.191953</td>\n",
              "      <td>00:13</td>\n",
              "    </tr>\n",
              "    <tr>\n",
              "      <td>18</td>\n",
              "      <td>1.078602</td>\n",
              "      <td>5.779620</td>\n",
              "      <td>0.192528</td>\n",
              "      <td>00:13</td>\n",
              "    </tr>\n",
              "    <tr>\n",
              "      <td>19</td>\n",
              "      <td>1.031213</td>\n",
              "      <td>5.780799</td>\n",
              "      <td>0.192516</td>\n",
              "      <td>00:13</td>\n",
              "    </tr>\n",
              "  </tbody>\n",
              "</table>"
            ],
            "text/plain": [
              "<IPython.core.display.HTML object>"
            ]
          },
          "metadata": {
            "tags": []
          }
        }
      ]
    },
    {
      "cell_type": "code",
      "metadata": {
        "id": "TjoG_qvBd3Jr",
        "colab_type": "code",
        "colab": {}
      },
      "source": [
        "learn.save_encoder('ft_enc')"
      ],
      "execution_count": null,
      "outputs": []
    },
    {
      "cell_type": "code",
      "metadata": {
        "id": "TnHoxd8BicEQ",
        "colab_type": "code",
        "colab": {}
      },
      "source": [
        "classifier = text_classifier_learner(data_clas, AWD_LSTM , drop_mult=0.5)\n",
        "classifier.load_encoder('ft_enc')\n",
        "classifier.freeze()"
      ],
      "execution_count": null,
      "outputs": []
    },
    {
      "cell_type": "code",
      "metadata": {
        "id": "bZ7oHZ4gjeqM",
        "colab_type": "code",
        "colab": {
          "base_uri": "https://localhost:8080/",
          "height": 375
        },
        "outputId": "60462be0-ac8a-4893-c71d-efb21be64db2"
      },
      "source": [
        "classifier.lr_find(start_lr=1e-8, end_lr=1e2)\n",
        "classifier.recorder.plot()"
      ],
      "execution_count": null,
      "outputs": [
        {
          "output_type": "display_data",
          "data": {
            "text/html": [
              "\n",
              "    <div>\n",
              "        <style>\n",
              "            /* Turns off some styling */\n",
              "            progress {\n",
              "                /* gets rid of default border in Firefox and Opera. */\n",
              "                border: none;\n",
              "                /* Needs to be in here for Safari polyfill so background images work as expected. */\n",
              "                background-size: auto;\n",
              "            }\n",
              "            .progress-bar-interrupted, .progress-bar-interrupted::-webkit-progress-bar {\n",
              "                background: #F44336;\n",
              "            }\n",
              "        </style>\n",
              "      <progress value='0' class='' max='1' style='width:300px; height:20px; vertical-align: middle;'></progress>\n",
              "      0.00% [0/1 00:00<00:00]\n",
              "    </div>\n",
              "    \n",
              "<table border=\"1\" class=\"dataframe\">\n",
              "  <thead>\n",
              "    <tr style=\"text-align: left;\">\n",
              "      <th>epoch</th>\n",
              "      <th>train_loss</th>\n",
              "      <th>valid_loss</th>\n",
              "      <th>accuracy</th>\n",
              "      <th>time</th>\n",
              "    </tr>\n",
              "  </thead>\n",
              "  <tbody>\n",
              "  </tbody>\n",
              "</table><p>\n",
              "\n",
              "    <div>\n",
              "        <style>\n",
              "            /* Turns off some styling */\n",
              "            progress {\n",
              "                /* gets rid of default border in Firefox and Opera. */\n",
              "                border: none;\n",
              "                /* Needs to be in here for Safari polyfill so background images work as expected. */\n",
              "                background-size: auto;\n",
              "            }\n",
              "            .progress-bar-interrupted, .progress-bar-interrupted::-webkit-progress-bar {\n",
              "                background: #F44336;\n",
              "            }\n",
              "        </style>\n",
              "      <progress value='84' class='' max='274' style='width:300px; height:20px; vertical-align: middle;'></progress>\n",
              "      30.66% [84/274 00:03<00:06 1.6664]\n",
              "    </div>\n",
              "    "
            ],
            "text/plain": [
              "<IPython.core.display.HTML object>"
            ]
          },
          "metadata": {
            "tags": []
          }
        },
        {
          "output_type": "stream",
          "text": [
            "LR Finder is complete, type {learner_name}.recorder.plot() to see the graph.\n"
          ],
          "name": "stdout"
        },
        {
          "output_type": "display_data",
          "data": {
            "image/png": "[encoded data removed]",
            "text/plain": [
              "<Figure size 432x288 with 1 Axes>"
            ]
          },
          "metadata": {
            "tags": [],
            "needs_background": "light"
          }
        }
      ]
    },
    {
      "cell_type": "code",
      "metadata": {
        "id": "VFL_6tWSpEG7",
        "colab_type": "code",
        "colab": {
          "base_uri": "https://localhost:8080/",
          "height": 78
        },
        "outputId": "18f7cee6-7fe9-47de-d644-e56b87d5c11c"
      },
      "source": [
        "classifier.fit_one_cycle(cyc_len=1, max_lr=1e-2, moms=(0.8, 0.7))"
      ],
      "execution_count": null,
      "outputs": [
        {
          "output_type": "display_data",
          "data": {
            "text/html": [
              "<table border=\"1\" class=\"dataframe\">\n",
              "  <thead>\n",
              "    <tr style=\"text-align: left;\">\n",
              "      <th>epoch</th>\n",
              "      <th>train_loss</th>\n",
              "      <th>valid_loss</th>\n",
              "      <th>accuracy</th>\n",
              "      <th>time</th>\n",
              "    </tr>\n",
              "  </thead>\n",
              "  <tbody>\n",
              "    <tr>\n",
              "      <td>0</td>\n",
              "      <td>0.599546</td>\n",
              "      <td>0.592678</td>\n",
              "      <td>0.762124</td>\n",
              "      <td>00:13</td>\n",
              "    </tr>\n",
              "  </tbody>\n",
              "</table>"
            ],
            "text/plain": [
              "<IPython.core.display.HTML object>"
            ]
          },
          "metadata": {
            "tags": []
          }
        }
      ]
    },
    {
      "cell_type": "code",
      "metadata": {
        "id": "S65do367qAVZ",
        "colab_type": "code",
        "colab": {
          "base_uri": "https://localhost:8080/",
          "height": 78
        },
        "outputId": "c0804bcc-8c0e-451a-ac02-d4db92c8ba7a"
      },
      "source": [
        "classifier.freeze_to(-2)\n",
        "classifier.fit_one_cycle(1, slice(1e-2/(2.6**4),1e-2), moms=(0.8,0.7))"
      ],
      "execution_count": null,
      "outputs": [
        {
          "output_type": "display_data",
          "data": {
            "text/html": [
              "<table border=\"1\" class=\"dataframe\">\n",
              "  <thead>\n",
              "    <tr style=\"text-align: left;\">\n",
              "      <th>epoch</th>\n",
              "      <th>train_loss</th>\n",
              "      <th>valid_loss</th>\n",
              "      <th>accuracy</th>\n",
              "      <th>time</th>\n",
              "    </tr>\n",
              "  </thead>\n",
              "  <tbody>\n",
              "    <tr>\n",
              "      <td>0</td>\n",
              "      <td>0.592808</td>\n",
              "      <td>0.574808</td>\n",
              "      <td>0.769809</td>\n",
              "      <td>00:15</td>\n",
              "    </tr>\n",
              "  </tbody>\n",
              "</table>"
            ],
            "text/plain": [
              "<IPython.core.display.HTML object>"
            ]
          },
          "metadata": {
            "tags": []
          }
        }
      ]
    },
    {
      "cell_type": "code",
      "metadata": {
        "id": "qwog_iDVqb5l",
        "colab_type": "code",
        "colab": {
          "base_uri": "https://localhost:8080/",
          "height": 78
        },
        "outputId": "63872f92-903a-4dba-b91f-ce4906ded286"
      },
      "source": [
        "classifier.freeze_to(-3)\n",
        "classifier.fit_one_cycle(1, slice(1e-2/(2.6**4),1e-2), moms=(0.8,0.7))"
      ],
      "execution_count": null,
      "outputs": [
        {
          "output_type": "display_data",
          "data": {
            "text/html": [
              "<table border=\"1\" class=\"dataframe\">\n",
              "  <thead>\n",
              "    <tr style=\"text-align: left;\">\n",
              "      <th>epoch</th>\n",
              "      <th>train_loss</th>\n",
              "      <th>valid_loss</th>\n",
              "      <th>accuracy</th>\n",
              "      <th>time</th>\n",
              "    </tr>\n",
              "  </thead>\n",
              "  <tbody>\n",
              "    <tr>\n",
              "      <td>0</td>\n",
              "      <td>0.595259</td>\n",
              "      <td>0.566011</td>\n",
              "      <td>0.777322</td>\n",
              "      <td>00:21</td>\n",
              "    </tr>\n",
              "  </tbody>\n",
              "</table>"
            ],
            "text/plain": [
              "<IPython.core.display.HTML object>"
            ]
          },
          "metadata": {
            "tags": []
          }
        }
      ]
    },
    {
      "cell_type": "code",
      "metadata": {
        "id": "jPJbSf9IsQGA",
        "colab_type": "code",
        "colab": {
          "base_uri": "https://localhost:8080/",
          "height": 648
        },
        "outputId": "5e92b0de-cc69-414c-fcc6-320064b891b9"
      },
      "source": [
        "classifier.unfreeze()\n",
        "classifier.fit_one_cycle(20, slice(1e-2/(2.6**4),1e-2), moms=(0.8,0.7))"
      ],
      "execution_count": null,
      "outputs": [
        {
          "output_type": "display_data",
          "data": {
            "text/html": [
              "<table border=\"1\" class=\"dataframe\">\n",
              "  <thead>\n",
              "    <tr style=\"text-align: left;\">\n",
              "      <th>epoch</th>\n",
              "      <th>train_loss</th>\n",
              "      <th>valid_loss</th>\n",
              "      <th>accuracy</th>\n",
              "      <th>time</th>\n",
              "    </tr>\n",
              "  </thead>\n",
              "  <tbody>\n",
              "    <tr>\n",
              "      <td>0</td>\n",
              "      <td>0.445163</td>\n",
              "      <td>0.558594</td>\n",
              "      <td>0.783128</td>\n",
              "      <td>00:27</td>\n",
              "    </tr>\n",
              "    <tr>\n",
              "      <td>1</td>\n",
              "      <td>0.419868</td>\n",
              "      <td>0.557822</td>\n",
              "      <td>0.781079</td>\n",
              "      <td>00:27</td>\n",
              "    </tr>\n",
              "    <tr>\n",
              "      <td>2</td>\n",
              "      <td>0.398060</td>\n",
              "      <td>0.587341</td>\n",
              "      <td>0.783128</td>\n",
              "      <td>00:28</td>\n",
              "    </tr>\n",
              "    <tr>\n",
              "      <td>3</td>\n",
              "      <td>0.382052</td>\n",
              "      <td>0.636788</td>\n",
              "      <td>0.774761</td>\n",
              "      <td>00:26</td>\n",
              "    </tr>\n",
              "    <tr>\n",
              "      <td>4</td>\n",
              "      <td>0.306678</td>\n",
              "      <td>0.711227</td>\n",
              "      <td>0.780055</td>\n",
              "      <td>00:27</td>\n",
              "    </tr>\n",
              "    <tr>\n",
              "      <td>5</td>\n",
              "      <td>0.253099</td>\n",
              "      <td>0.775550</td>\n",
              "      <td>0.771687</td>\n",
              "      <td>00:27</td>\n",
              "    </tr>\n",
              "    <tr>\n",
              "      <td>6</td>\n",
              "      <td>0.234733</td>\n",
              "      <td>0.693054</td>\n",
              "      <td>0.776127</td>\n",
              "      <td>00:27</td>\n",
              "    </tr>\n",
              "    <tr>\n",
              "      <td>7</td>\n",
              "      <td>0.195796</td>\n",
              "      <td>0.746911</td>\n",
              "      <td>0.771516</td>\n",
              "      <td>00:28</td>\n",
              "    </tr>\n",
              "    <tr>\n",
              "      <td>8</td>\n",
              "      <td>0.168032</td>\n",
              "      <td>0.786574</td>\n",
              "      <td>0.778347</td>\n",
              "      <td>00:27</td>\n",
              "    </tr>\n",
              "    <tr>\n",
              "      <td>9</td>\n",
              "      <td>0.112020</td>\n",
              "      <td>0.906304</td>\n",
              "      <td>0.775444</td>\n",
              "      <td>00:27</td>\n",
              "    </tr>\n",
              "    <tr>\n",
              "      <td>10</td>\n",
              "      <td>0.116601</td>\n",
              "      <td>0.828978</td>\n",
              "      <td>0.775273</td>\n",
              "      <td>00:29</td>\n",
              "    </tr>\n",
              "    <tr>\n",
              "      <td>11</td>\n",
              "      <td>0.081003</td>\n",
              "      <td>0.961103</td>\n",
              "      <td>0.771004</td>\n",
              "      <td>00:27</td>\n",
              "    </tr>\n",
              "    <tr>\n",
              "      <td>12</td>\n",
              "      <td>0.090788</td>\n",
              "      <td>0.909736</td>\n",
              "      <td>0.772541</td>\n",
              "      <td>00:26</td>\n",
              "    </tr>\n",
              "    <tr>\n",
              "      <td>13</td>\n",
              "      <td>0.070911</td>\n",
              "      <td>0.936346</td>\n",
              "      <td>0.784665</td>\n",
              "      <td>00:28</td>\n",
              "    </tr>\n",
              "    <tr>\n",
              "      <td>14</td>\n",
              "      <td>0.062750</td>\n",
              "      <td>0.964496</td>\n",
              "      <td>0.780396</td>\n",
              "      <td>00:26</td>\n",
              "    </tr>\n",
              "    <tr>\n",
              "      <td>15</td>\n",
              "      <td>0.048889</td>\n",
              "      <td>1.030814</td>\n",
              "      <td>0.777322</td>\n",
              "      <td>00:26</td>\n",
              "    </tr>\n",
              "    <tr>\n",
              "      <td>16</td>\n",
              "      <td>0.041148</td>\n",
              "      <td>1.022673</td>\n",
              "      <td>0.779201</td>\n",
              "      <td>00:27</td>\n",
              "    </tr>\n",
              "    <tr>\n",
              "      <td>17</td>\n",
              "      <td>0.040591</td>\n",
              "      <td>0.980017</td>\n",
              "      <td>0.779201</td>\n",
              "      <td>00:28</td>\n",
              "    </tr>\n",
              "    <tr>\n",
              "      <td>18</td>\n",
              "      <td>0.039638</td>\n",
              "      <td>1.035321</td>\n",
              "      <td>0.781933</td>\n",
              "      <td>00:28</td>\n",
              "    </tr>\n",
              "    <tr>\n",
              "      <td>19</td>\n",
              "      <td>0.029684</td>\n",
              "      <td>0.993625</td>\n",
              "      <td>0.782275</td>\n",
              "      <td>00:27</td>\n",
              "    </tr>\n",
              "  </tbody>\n",
              "</table>"
            ],
            "text/plain": [
              "<IPython.core.display.HTML object>"
            ]
          },
          "metadata": {
            "tags": []
          }
        }
      ]
    },
    {
      "cell_type": "code",
      "metadata": {
        "id": "iNuz7g0qtILw",
        "colab_type": "code",
        "colab": {
          "base_uri": "https://localhost:8080/",
          "height": 388
        },
        "outputId": "37f6bd06-867a-455b-955b-6d079ebc8e51"
      },
      "source": [
        "data_lm.show_batch()"
      ],
      "execution_count": null,
      "outputs": [
        {
          "output_type": "display_data",
          "data": {
            "text/html": [
              "<table border=\"1\" class=\"dataframe\">\n",
              "  <thead>\n",
              "    <tr style=\"text-align: right;\">\n",
              "      <th>idx</th>\n",
              "      <th>text</th>\n",
              "    </tr>\n",
              "  </thead>\n",
              "  <tbody>\n",
              "    <tr>\n",
              "      <td>0</td>\n",
              "      <td>half hour amp crew hrs limit amp deplane xxmaj unacceptable xxbos united i sending posting complete details circumstances surrounding matter xxmaj united airlines ashamed xxbos jetblue landed thank anyway xxmaj btw flight staff flight wonderful despite full day heavy load xxbos usairways always go xxmaj what happened xxmaj airbus xxmaj boeing customer service xxbos jetblue new xxup ceo seeks right balance please passengers xxmaj wall xxmaj daily xxmaj journal http</td>\n",
              "    </tr>\n",
              "    <tr>\n",
              "      <td>1</td>\n",
              "      <td>xxmaj loosing lot business using xxmaj xxunk i ca nt believe ca nt apply card live xxmaj iowa xxbos americanair went check flight hr advance husband i seated separately hr flight happen xxbos americanair number even let wait next customer rep xxmaj very frustrating xxmaj can talk humans xxbos usairways i day xxmaj can find bag anywhere bc saying never scanned amp technically never left xxup lax xxbos xxmaj southwestair</td>\n",
              "    </tr>\n",
              "    <tr>\n",
              "      <td>2</td>\n",
              "      <td>turn trip i buy return ticket child xxbos southwestair rules xxbos united xxmaj slightly better xxmaj crew spent long time searching better altitude xxmaj would helped let pax xxunk drops xxbos americanair xxmaj call xxmaj chairman call xxmaj emerald xxmaj after today call former customer xxbos usairways hell overbook plane knew people actually seat assignments xxunk uncaring piss poorplanning xxbos americanair xxmaj still waiting bags flight yesterday xxmaj first xxmaj</td>\n",
              "    </tr>\n",
              "    <tr>\n",
              "      <td>3</td>\n",
              "      <td>xxmaj we made xxmaj seattle xxbos usairways getting extremely frustrated w phone online service merging frequent flyer miles xxbos americanair xxmaj that ok xxmaj you may keep lose bag info longer trust xxmaj bad way handle xxbos united officially xxunk deltaassist better flight experience pleasant cabin crew timeliness xxup ua switching xxbos united xxmaj hey many time changes xxup ua xxmaj we going tonight xxup mia xxup ewr xxbos usairways</td>\n",
              "    </tr>\n",
              "    <tr>\n",
              "      <td>4</td>\n",
              "      <td>na rock xxbos united i something missing checked baggage xxbos jetblue i wanted say flight attendant xxunk best tonight flight bwi xxmaj bos xxmaj great guy made flight fantastic xxbos americanair xxmaj can please give travel agent support phone number i ca nt find website xxmaj thanks xxbos americanair thank xxbos united xxup ewr xxup lax xxup ua seat armrest broken xxunk takeoff flight full xxup fa filed report chat</td>\n",
              "    </tr>\n",
              "  </tbody>\n",
              "</table>"
            ],
            "text/plain": [
              "<IPython.core.display.HTML object>"
            ]
          },
          "metadata": {
            "tags": []
          }
        }
      ]
    },
    {
      "cell_type": "code",
      "metadata": {
        "id": "aPVtvpuDBjwW",
        "colab_type": "code",
        "colab": {
          "base_uri": "https://localhost:8080/",
          "height": 108
        },
        "outputId": "2807c154-da46-45cf-c8c8-a6ef638c0166"
      },
      "source": [
        "preds, targets = classifier.get_preds()\n",
        "predictions = np.argmax(preds, axis=1)\n",
        "pd.crosstab(predictions, targets)\n",
        "predicted = [None for i in range(len(df_val))]\n",
        "df_val['predicted'] = predicted\n",
        "df_val.head(2)"
      ],
      "execution_count": null,
      "outputs": [
        {
          "output_type": "display_data",
          "data": {
            "text/html": [
              ""
            ],
            "text/plain": [
              "<IPython.core.display.HTML object>"
            ]
          },
          "metadata": {
            "tags": []
          }
        },
        {
          "output_type": "execute_result",
          "data": {
            "text/html": [
              "<div>\n",
              "<style scoped>\n",
              "    .dataframe tbody tr th:only-of-type {\n",
              "        vertical-align: middle;\n",
              "    }\n",
              "\n",
              "    .dataframe tbody tr th {\n",
              "        vertical-align: top;\n",
              "    }\n",
              "\n",
              "    .dataframe thead th {\n",
              "        text-align: right;\n",
              "    }\n",
              "</style>\n",
              "<table border=\"1\" class=\"dataframe\">\n",
              "  <thead>\n",
              "    <tr style=\"text-align: right;\">\n",
              "      <th></th>\n",
              "      <th>airline_sentiment</th>\n",
              "      <th>text</th>\n",
              "      <th>predicted</th>\n",
              "    </tr>\n",
              "  </thead>\n",
              "  <tbody>\n",
              "    <tr>\n",
              "      <th>13484</th>\n",
              "      <td>negative</td>\n",
              "      <td>AmericanAir I filled whole form receiving poor...</td>\n",
              "      <td>None</td>\n",
              "    </tr>\n",
              "    <tr>\n",
              "      <th>11120</th>\n",
              "      <td>negative</td>\n",
              "      <td>USAirways Some kids anxious Husband I sit curr...</td>\n",
              "      <td>None</td>\n",
              "    </tr>\n",
              "  </tbody>\n",
              "</table>\n",
              "</div>"
            ],
            "text/plain": [
              "      airline_sentiment  ... predicted\n",
              "13484          negative  ...      None\n",
              "11120          negative  ...      None\n",
              "\n",
              "[2 rows x 3 columns]"
            ]
          },
          "metadata": {
            "tags": []
          },
          "execution_count": 29
        }
      ]
    },
    {
      "cell_type": "code",
      "metadata": {
        "id": "m4vMhDGMqcvK",
        "colab_type": "code",
        "colab": {
          "base_uri": "https://localhost:8080/",
          "height": 198
        },
        "outputId": "5de6c2ae-c59e-40d6-d0eb-b5ab76b12041"
      },
      "source": [
        "df_val['predicted'] = df_val['text'].apply(lambda row: str(classifier.predict(row)[0]))\n",
        "df_val.tail()"
      ],
      "execution_count": null,
      "outputs": [
        {
          "output_type": "execute_result",
          "data": {
            "text/html": [
              "<div>\n",
              "<style scoped>\n",
              "    .dataframe tbody tr th:only-of-type {\n",
              "        vertical-align: middle;\n",
              "    }\n",
              "\n",
              "    .dataframe tbody tr th {\n",
              "        vertical-align: top;\n",
              "    }\n",
              "\n",
              "    .dataframe thead th {\n",
              "        text-align: right;\n",
              "    }\n",
              "</style>\n",
              "<table border=\"1\" class=\"dataframe\">\n",
              "  <thead>\n",
              "    <tr style=\"text-align: right;\">\n",
              "      <th></th>\n",
              "      <th>airline_sentiment</th>\n",
              "      <th>text</th>\n",
              "      <th>predicted</th>\n",
              "    </tr>\n",
              "  </thead>\n",
              "  <tbody>\n",
              "    <tr>\n",
              "      <th>13959</th>\n",
              "      <td>negative</td>\n",
              "      <td>AmericanAir bags Baggage claim C C flt I see p...</td>\n",
              "      <td>negative</td>\n",
              "    </tr>\n",
              "    <tr>\n",
              "      <th>5070</th>\n",
              "      <td>negative</td>\n",
              "      <td>SouthwestAir want explain I hold hrs tonight t...</td>\n",
              "      <td>negative</td>\n",
              "    </tr>\n",
              "    <tr>\n",
              "      <th>9031</th>\n",
              "      <td>neutral</td>\n",
              "      <td>USAirways calls amp wasted hrs hold change com...</td>\n",
              "      <td>negative</td>\n",
              "    </tr>\n",
              "    <tr>\n",
              "      <th>8646</th>\n",
              "      <td>positive</td>\n",
              "      <td>JetBlue guys continue impress Your crew MCO ga...</td>\n",
              "      <td>negative</td>\n",
              "    </tr>\n",
              "    <tr>\n",
              "      <th>6889</th>\n",
              "      <td>negative</td>\n",
              "      <td>jetblue directed mobile website Where direct l...</td>\n",
              "      <td>negative</td>\n",
              "    </tr>\n",
              "  </tbody>\n",
              "</table>\n",
              "</div>"
            ],
            "text/plain": [
              "      airline_sentiment  ... predicted\n",
              "13959          negative  ...  negative\n",
              "5070           negative  ...  negative\n",
              "9031            neutral  ...  negative\n",
              "8646           positive  ...  negative\n",
              "6889           negative  ...  negative\n",
              "\n",
              "[5 rows x 3 columns]"
            ]
          },
          "metadata": {
            "tags": []
          },
          "execution_count": 30
        }
      ]
    },
    {
      "cell_type": "code",
      "metadata": {
        "id": "9hWGQDvRCwc6",
        "colab_type": "code",
        "colab": {
          "base_uri": "https://localhost:8080/",
          "height": 297
        },
        "outputId": "2581ae49-340f-4c2d-b89c-fa532a79d3ce"
      },
      "source": [
        "cm = confusion_matrix(df_val['airline_sentiment'], df_val['predicted'])\n",
        "classes=['negative', 'neutral', 'positive'] \n",
        "title='Airline sentiment confusion matrix'\n",
        "# Only use the labels that appear in the data\n",
        "#classes = classes[unique_labels(y_true, y_pred)]\n",
        "cmap=plt.cm.Blues\n",
        "fig, ax = plt.subplots()\n",
        "im = ax.imshow(cm, interpolation='nearest', cmap=cmap)\n",
        "ax.figure.colorbar(im, ax=ax)\n",
        "# We want to show all ticks...\n",
        "ax.set(xticks=np.arange(cm.shape[1]),\n",
        "        yticks=np.arange(cm.shape[0]),\n",
        "        # ... and label them with the respective list entries\n",
        "        xticklabels=classes, yticklabels=classes,\n",
        "        title=title,\n",
        "        ylabel='True label',\n",
        "        xlabel='Predicted label')\n",
        "\n",
        "# Rotate the tick labels and set their alignment.\n",
        "plt.setp(ax.get_xticklabels(), rotation=45, ha=\"right\",\n",
        "          rotation_mode=\"anchor\")\n",
        "fmt = 'd'\n",
        "thresh = cm.max() / 2.\n",
        "for i in range(cm.shape[0]):\n",
        "    for j in range(cm.shape[1]):\n",
        "        ax.text(j, i, format(cm[i, j], fmt),\n",
        "                ha=\"center\", va=\"center\",\n",
        "                color=\"white\" if cm[i, j] > thresh else \"black\")\n",
        "fig.tight_layout()\n",
        "plt.show()"
      ],
      "execution_count": null,
      "outputs": [
        {
          "output_type": "display_data",
          "data": {
            "image/png": "[encoded data removed]",
            "text/plain": [
              "<Figure size 432x288 with 2 Axes>"
            ]
          },
          "metadata": {
            "tags": [],
            "needs_background": "light"
          }
        }
      ]
    },
    {
      "cell_type": "code",
      "metadata": {
        "id": "wEfzgC7VQBLj",
        "colab_type": "code",
        "colab": {}
      },
      "source": [
        ""
      ],
      "execution_count": null,
      "outputs": []
    }
  ]
}