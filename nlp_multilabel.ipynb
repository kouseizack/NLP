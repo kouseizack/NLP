{
  "nbformat": 4,
  "nbformat_minor": 0,
  "metadata": {
    "colab": {
      "name": "nlp_multilabel.ipynb",
      "provenance": [],
      "collapsed_sections": [],
      "authorship_tag": "ABX9TyNfbYEv3SltsIpYOTaAO8Ap",
      "include_colab_link": true
    },
    "kernelspec": {
      "name": "python3",
      "display_name": "Python 3"
    },
    "accelerator": "GPU"
  },
  "cells": [
    {
      "cell_type": "markdown",
      "metadata": {
        "id": "view-in-github",
        "colab_type": "text"
      },
      "source": [
        "<a href=\"https://colab.research.google.com/github/kouseizack/NLP/blob/master/nlp_multilabel.ipynb\" target=\"_parent\"><img src=\"https://colab.research.google.com/assets/colab-badge.svg\" alt=\"Open In Colab\"/></a>"
      ]
    },
    {
      "cell_type": "code",
      "metadata": {
        "id": "USR5oQqOfQ8F",
        "colab": {
          "base_uri": "https://localhost:8080/",
          "height": 54
        },
        "outputId": "e75cd4fc-811d-4bb2-e7cd-5190a955f247"
      },
      "source": [
        "from google.colab import drive\n",
        "drive.mount('/content/drive')"
      ],
      "execution_count": null,
      "outputs": [
        {
          "output_type": "stream",
          "text": [
            "Drive already mounted at /content/drive; to attempt to forcibly remount, call drive.mount(\"/content/drive\", force_remount=True).\n"
          ],
          "name": "stdout"
        }
      ]
    },
    {
      "cell_type": "code",
      "metadata": {
        "id": "tX9cCyslfu--",
        "colab": {
          "base_uri": "https://localhost:8080/",
          "height": 34
        },
        "outputId": "4569ac81-70e3-424f-b7c9-63456d0ab684"
      },
      "source": [
        "cd /content/drive/My Drive/nlp_basics"
      ],
      "execution_count": null,
      "outputs": [
        {
          "output_type": "stream",
          "text": [
            "/content/drive/My Drive/nlp_basics\n"
          ],
          "name": "stdout"
        }
      ]
    },
    {
      "cell_type": "code",
      "metadata": {
        "id": "PXTFMn-Vf2xk"
      },
      "source": [
        "import numpy as np # linear algebra\n",
        "import pandas as pd # data processing, CSV file I/O (e.g. pd.read_csv)\n",
        "import nltk #NLTK(Natural Language Toolkit)\n",
        "from nltk.corpus import stopwords #NLTK(Natural Language Toolkit) in python has a list of stopwords stored in 16 different languages.\n",
        "from nltk.tokenize import word_tokenize# To tokenize words\n",
        "import re\n",
        "import seaborn as sns\n",
        "from nltk.tokenize import RegexpTokenizer\n",
        "from nltk.stem import WordNetLemmatizer\n",
        "from nltk.stem.porter import PorterStemmer\n",
        "import matplotlib.pyplot as plt # data visualization\n",
        "%matplotlib inline"
      ],
      "execution_count": null,
      "outputs": []
    },
    {
      "cell_type": "code",
      "metadata": {
        "id": "ASEPsIKqf7Pe",
        "colab": {
          "base_uri": "https://localhost:8080/",
          "height": 545
        },
        "outputId": "d984c529-8ddd-4a70-b9e2-3bf9e9ec5807"
      },
      "source": [
        "data_train = pd.read_csv('train.csv')\n",
        "data_test = pd.read_csv('test.csv')\n",
        "print (data_train.shape)\n",
        "print (data_test.shape)\n",
        "data_train.head(10)"
      ],
      "execution_count": null,
      "outputs": [
        {
          "output_type": "stream",
          "text": [
            "(159571, 8)\n",
            "(153164, 2)\n"
          ],
          "name": "stdout"
        },
        {
          "output_type": "execute_result",
          "data": {
            "text/html": [
              "<div>\n",
              "<style scoped>\n",
              "    .dataframe tbody tr th:only-of-type {\n",
              "        vertical-align: middle;\n",
              "    }\n",
              "\n",
              "    .dataframe tbody tr th {\n",
              "        vertical-align: top;\n",
              "    }\n",
              "\n",
              "    .dataframe thead th {\n",
              "        text-align: right;\n",
              "    }\n",
              "</style>\n",
              "<table border=\"1\" class=\"dataframe\">\n",
              "  <thead>\n",
              "    <tr style=\"text-align: right;\">\n",
              "      <th></th>\n",
              "      <th>id</th>\n",
              "      <th>comment_text</th>\n",
              "      <th>toxic</th>\n",
              "      <th>severe_toxic</th>\n",
              "      <th>obscene</th>\n",
              "      <th>threat</th>\n",
              "      <th>insult</th>\n",
              "      <th>identity_hate</th>\n",
              "    </tr>\n",
              "  </thead>\n",
              "  <tbody>\n",
              "    <tr>\n",
              "      <th>0</th>\n",
              "      <td>0000997932d777bf</td>\n",
              "      <td>Explanation\\nWhy the edits made under my usern...</td>\n",
              "      <td>0</td>\n",
              "      <td>0</td>\n",
              "      <td>0</td>\n",
              "      <td>0</td>\n",
              "      <td>0</td>\n",
              "      <td>0</td>\n",
              "    </tr>\n",
              "    <tr>\n",
              "      <th>1</th>\n",
              "      <td>000103f0d9cfb60f</td>\n",
              "      <td>D'aww! He matches this background colour I'm s...</td>\n",
              "      <td>0</td>\n",
              "      <td>0</td>\n",
              "      <td>0</td>\n",
              "      <td>0</td>\n",
              "      <td>0</td>\n",
              "      <td>0</td>\n",
              "    </tr>\n",
              "    <tr>\n",
              "      <th>2</th>\n",
              "      <td>000113f07ec002fd</td>\n",
              "      <td>Hey man, I'm really not trying to edit war. It...</td>\n",
              "      <td>0</td>\n",
              "      <td>0</td>\n",
              "      <td>0</td>\n",
              "      <td>0</td>\n",
              "      <td>0</td>\n",
              "      <td>0</td>\n",
              "    </tr>\n",
              "    <tr>\n",
              "      <th>3</th>\n",
              "      <td>0001b41b1c6bb37e</td>\n",
              "      <td>\"\\nMore\\nI can't make any real suggestions on ...</td>\n",
              "      <td>0</td>\n",
              "      <td>0</td>\n",
              "      <td>0</td>\n",
              "      <td>0</td>\n",
              "      <td>0</td>\n",
              "      <td>0</td>\n",
              "    </tr>\n",
              "    <tr>\n",
              "      <th>4</th>\n",
              "      <td>0001d958c54c6e35</td>\n",
              "      <td>You, sir, are my hero. Any chance you remember...</td>\n",
              "      <td>0</td>\n",
              "      <td>0</td>\n",
              "      <td>0</td>\n",
              "      <td>0</td>\n",
              "      <td>0</td>\n",
              "      <td>0</td>\n",
              "    </tr>\n",
              "    <tr>\n",
              "      <th>5</th>\n",
              "      <td>00025465d4725e87</td>\n",
              "      <td>\"\\n\\nCongratulations from me as well, use the ...</td>\n",
              "      <td>0</td>\n",
              "      <td>0</td>\n",
              "      <td>0</td>\n",
              "      <td>0</td>\n",
              "      <td>0</td>\n",
              "      <td>0</td>\n",
              "    </tr>\n",
              "    <tr>\n",
              "      <th>6</th>\n",
              "      <td>0002bcb3da6cb337</td>\n",
              "      <td>COCKSUCKER BEFORE YOU PISS AROUND ON MY WORK</td>\n",
              "      <td>1</td>\n",
              "      <td>1</td>\n",
              "      <td>1</td>\n",
              "      <td>0</td>\n",
              "      <td>1</td>\n",
              "      <td>0</td>\n",
              "    </tr>\n",
              "    <tr>\n",
              "      <th>7</th>\n",
              "      <td>00031b1e95af7921</td>\n",
              "      <td>Your vandalism to the Matt Shirvington article...</td>\n",
              "      <td>0</td>\n",
              "      <td>0</td>\n",
              "      <td>0</td>\n",
              "      <td>0</td>\n",
              "      <td>0</td>\n",
              "      <td>0</td>\n",
              "    </tr>\n",
              "    <tr>\n",
              "      <th>8</th>\n",
              "      <td>00037261f536c51d</td>\n",
              "      <td>Sorry if the word 'nonsense' was offensive to ...</td>\n",
              "      <td>0</td>\n",
              "      <td>0</td>\n",
              "      <td>0</td>\n",
              "      <td>0</td>\n",
              "      <td>0</td>\n",
              "      <td>0</td>\n",
              "    </tr>\n",
              "    <tr>\n",
              "      <th>9</th>\n",
              "      <td>00040093b2687caa</td>\n",
              "      <td>alignment on this subject and which are contra...</td>\n",
              "      <td>0</td>\n",
              "      <td>0</td>\n",
              "      <td>0</td>\n",
              "      <td>0</td>\n",
              "      <td>0</td>\n",
              "      <td>0</td>\n",
              "    </tr>\n",
              "  </tbody>\n",
              "</table>\n",
              "</div>"
            ],
            "text/plain": [
              "                 id  ... identity_hate\n",
              "0  0000997932d777bf  ...             0\n",
              "1  000103f0d9cfb60f  ...             0\n",
              "2  000113f07ec002fd  ...             0\n",
              "3  0001b41b1c6bb37e  ...             0\n",
              "4  0001d958c54c6e35  ...             0\n",
              "5  00025465d4725e87  ...             0\n",
              "6  0002bcb3da6cb337  ...             0\n",
              "7  00031b1e95af7921  ...             0\n",
              "8  00037261f536c51d  ...             0\n",
              "9  00040093b2687caa  ...             0\n",
              "\n",
              "[10 rows x 8 columns]"
            ]
          },
          "metadata": {
            "tags": []
          },
          "execution_count": 5
        }
      ]
    },
    {
      "cell_type": "markdown",
      "metadata": {
        "id": "rDcdisVnjMyI"
      },
      "source": [
        "Data Visulalization"
      ]
    },
    {
      "cell_type": "code",
      "metadata": {
        "id": "ydUtPJ3UgR91",
        "colab": {
          "base_uri": "https://localhost:8080/",
          "height": 34
        },
        "outputId": "30e9dd95-e49f-4fe2-8b0f-5b6589057ed9"
      },
      "source": [
        "categories = list(data_train.columns.values)\n",
        "categories = categories[2:]\n",
        "print (categories)"
      ],
      "execution_count": null,
      "outputs": [
        {
          "output_type": "stream",
          "text": [
            "['toxic', 'severe_toxic', 'obscene', 'threat', 'insult', 'identity_hate']\n"
          ],
          "name": "stdout"
        }
      ]
    },
    {
      "cell_type": "code",
      "metadata": {
        "id": "91_An6guyMuU",
        "colab": {
          "base_uri": "https://localhost:8080/",
          "height": 34
        },
        "outputId": "5d0d3162-a68b-424b-a8be-5abd56dc8fbf"
      },
      "source": [
        "count_per_category = [sum(data_train[y]) for y in data_train.columns.values[2:]]\n",
        "count_per_category"
      ],
      "execution_count": null,
      "outputs": [
        {
          "output_type": "execute_result",
          "data": {
            "text/plain": [
              "[15294, 1595, 8449, 478, 7877, 1405]"
            ]
          },
          "metadata": {
            "tags": []
          },
          "execution_count": 7
        }
      ]
    },
    {
      "cell_type": "code",
      "metadata": {
        "id": "XVfpAbXqi9ij",
        "colab": {
          "base_uri": "https://localhost:8080/",
          "height": 625
        },
        "outputId": "a3438116-4571-405f-a714-fb8d5bc0fc3c"
      },
      "source": [
        "plt.figure(figsize = (10, 10))\n",
        "plt.bar(np.arange(len(count_per_category)),count_per_category)\n",
        "plt.xticks(np.arange(len(count_per_category)), categories)\n",
        "plt.xlabel('Catagories')\n",
        "plt.ylabel('Occurrence')"
      ],
      "execution_count": null,
      "outputs": [
        {
          "output_type": "execute_result",
          "data": {
            "text/plain": [
              "Text(0, 0.5, 'Occurrence')"
            ]
          },
          "metadata": {
            "tags": []
          },
          "execution_count": 8
        },
        {
          "output_type": "display_data",
          "data": {
            "image/png": "[encoded data removed]",
            "text/plain": [
              "<Figure size 720x720 with 1 Axes>"
            ]
          },
          "metadata": {
            "tags": [],
            "needs_background": "light"
          }
        }
      ]
    },
    {
      "cell_type": "code",
      "metadata": {
        "id": "pCDNVydEIykE",
        "colab": {
          "base_uri": "https://localhost:8080/",
          "height": 34
        },
        "outputId": "05b1a572-d6c8-4879-d777-2c2ffb6b5d3a"
      },
      "source": [
        "train_sample = data_train.loc[np.random.choice(data_train.index, size=85000)]\n",
        "train_sample.shape\n",
        "test_sample = data_test.loc[np.random.choice(data_test.index, size=70000)]\n",
        "test_sample.shape"
      ],
      "execution_count": null,
      "outputs": [
        {
          "output_type": "execute_result",
          "data": {
            "text/plain": [
              "(70000, 2)"
            ]
          },
          "metadata": {
            "tags": []
          },
          "execution_count": 21
        }
      ]
    },
    {
      "cell_type": "code",
      "metadata": {
        "id": "LLIGUYeeUd75",
        "colab": {
          "base_uri": "https://localhost:8080/",
          "height": 134
        },
        "outputId": "2de8ac19-6dcc-4dde-86c6-b88d67ba1b19"
      },
      "source": [
        "from sklearn.model_selection import train_test_split\n",
        "from tensorflow.keras.preprocessing.text import Tokenizer\n",
        "from tensorflow.keras.preprocessing.sequence import pad_sequences\n",
        "import copy\n",
        "tokenizer = Tokenizer(num_words=50000)\n",
        "\n",
        "print (train_sample.shape)\n",
        "\n",
        "total_comments = train_sample['comment_text'].values.tolist() + test_sample['comment_text'].values.tolist()\n",
        "tokenizer.fit_on_texts(total_comments)\n",
        "X_train , X_test , Y_train , Y_test = train_test_split(train_sample['comment_text'].values , train_sample.iloc[: , 2:] ,random_state=42, test_size=0.30, shuffle=True)\n",
        "X_train = tokenizer.texts_to_sequences(X_train)\n",
        "X_test = tokenizer.texts_to_sequences(X_test)\n",
        "maxlen = max([len(s.split()) for s in total_comments])\n",
        "\n",
        "X_train = pad_sequences(X_train, padding='post', maxlen=maxlen)\n",
        "X_test = pad_sequences(X_test, padding='post', maxlen=maxlen)\n",
        "\n",
        "word_index = tokenizer.word_index\n",
        "print (\"length of word_index :\" , len(word_index))\n",
        "p = 0\n",
        "for key , val in word_index.items():\n",
        "  if(p <= 2):\n",
        "    print (key , val)\n",
        "  p += 1\n",
        "\n",
        "print(X_train.shape,Y_train.shape)\n",
        "print(X_test.shape,Y_test.shape)"
      ],
      "execution_count": null,
      "outputs": [
        {
          "output_type": "stream",
          "text": [
            "(85000, 8)\n",
            "length of word_index : 208750\n",
            "the 1\n",
            "to 2\n",
            "of 3\n",
            "(59500, 1990) (59500, 6)\n",
            "(25500, 1990) (25500, 6)\n"
          ],
          "name": "stdout"
        }
      ]
    },
    {
      "cell_type": "markdown",
      "metadata": {
        "id": "Vw4mdIZXjseL"
      },
      "source": [
        "Data pre-processsing : \n"
      ]
    },
    {
      "cell_type": "code",
      "metadata": {
        "id": "nvkpREmOksjv"
      },
      "source": [
        "def cleanHtml(sentence):\n",
        "    cleanr = re.compile('<.*?>')\n",
        "    cleantext = re.sub(cleanr, ' ', str(sentence))\n",
        "    return cleantext\n",
        "\n",
        "def cleanPunc(sentence): #function to clean the word of any punctuation or special characters\n",
        "    cleaned = re.sub(r'[?|!|\\'|\"|#]',r'',sentence)\n",
        "    cleaned = re.sub(r'[.|,|)|(|\\|/]',r' ',cleaned)\n",
        "    cleaned = cleaned.strip()\n",
        "    cleaned = cleaned.replace(\"\\n\",\" \")\n",
        "    return cleaned\n",
        "\n",
        "def keep_alpha_numer(sentence):\n",
        "    alpha_sent = \"\"\n",
        "    for word in sentence.split():\n",
        "        alpha_word = re.sub(\"[^a-zA-Z0-9]\",\" \", word)\n",
        "        alpha_sent += alpha_word\n",
        "        alpha_sent += \" \"\n",
        "    alpha_sent = alpha_sent.strip()\n",
        "    return alpha_sent"
      ],
      "execution_count": null,
      "outputs": []
    },
    {
      "cell_type": "code",
      "metadata": {
        "id": "_6zGuJcutfoB",
        "colab": {
          "base_uri": "https://localhost:8080/",
          "height": 353
        },
        "outputId": "ae604435-628a-4a89-bb24-dc4940e1556f"
      },
      "source": [
        "train_sample['comment_text'] = train_sample['comment_text'].str.lower()\n",
        "test_sample['comment_text'] = test_sample['comment_text'].str.lower()\n",
        "\n",
        "train_sample['comment_text'] = train_sample['comment_text'].apply(cleanHtml)\n",
        "train_sample['comment_text'] = train_sample['comment_text'].apply(cleanPunc)\n",
        "train_sample['comment_text'] = train_sample['comment_text'].apply(keep_alpha_numer)\n",
        "print (train_sample.head())\n",
        "print (train_sample['comment_text'])"
      ],
      "execution_count": null,
      "outputs": [
        {
          "output_type": "stream",
          "text": [
            "                      id  ... identity_hate\n",
            "93589   fa3e98bf6dfcadb1  ...             0\n",
            "78212   d159a322493c8f81  ...             0\n",
            "158265  eb32288317b01e8e  ...             0\n",
            "33679   59d052fa96d1a94a  ...             0\n",
            "120345  839c70dce415208b  ...             0\n",
            "\n",
            "[5 rows x 8 columns]\n",
            "93589     informal proof   energy dependence since the d...\n",
            "78212     mm well sure ill give it a whirl what the heck...\n",
            "158265                 searching i was able to find a video\n",
            "33679     eleventh doctor   series 1 series 5 series 31 ...\n",
            "120345    i would also like to point out that as the vic...\n",
            "                                ...                        \n",
            "141724    i think we should list it as inactive encyclop...\n",
            "42932     this is not patent nonsense i am not taking of...\n",
            "82831                                    ill stop okay talk\n",
            "36404     edit  he is now monitoring this entry on my ta...\n",
            "123964    hi and welcome to wilipedia trivia is a contro...\n",
            "Name: comment_text, Length: 85000, dtype: object\n"
          ],
          "name": "stdout"
        }
      ]
    },
    {
      "cell_type": "code",
      "metadata": {
        "id": "9Zcqsp8CLueo",
        "colab": {
          "base_uri": "https://localhost:8080/",
          "height": 195
        },
        "outputId": "82b8a96d-8294-49e4-fc1f-607885dc06eb"
      },
      "source": [
        "test_sample['comment_text'] = test_sample['comment_text'].apply(cleanHtml)\n",
        "test_sample['comment_text'] = test_sample['comment_text'].apply(cleanPunc)\n",
        "test_sample['comment_text'] = test_sample['comment_text'].apply(keep_alpha_numer)\n",
        "test_sample.head()"
      ],
      "execution_count": null,
      "outputs": [
        {
          "output_type": "execute_result",
          "data": {
            "text/html": [
              "<div>\n",
              "<style scoped>\n",
              "    .dataframe tbody tr th:only-of-type {\n",
              "        vertical-align: middle;\n",
              "    }\n",
              "\n",
              "    .dataframe tbody tr th {\n",
              "        vertical-align: top;\n",
              "    }\n",
              "\n",
              "    .dataframe thead th {\n",
              "        text-align: right;\n",
              "    }\n",
              "</style>\n",
              "<table border=\"1\" class=\"dataframe\">\n",
              "  <thead>\n",
              "    <tr style=\"text-align: right;\">\n",
              "      <th></th>\n",
              "      <th>id</th>\n",
              "      <th>comment_text</th>\n",
              "    </tr>\n",
              "  </thead>\n",
              "  <tbody>\n",
              "    <tr>\n",
              "      <th>14983</th>\n",
              "      <td>1924559973053cb9</td>\n",
              "      <td>irene marsha silverblatt is a eurocentrist</td>\n",
              "    </tr>\n",
              "    <tr>\n",
              "      <th>137480</th>\n",
              "      <td>e5d27b2b3d383412</td>\n",
              "      <td>justin wilson is one of the most popular drive...</td>\n",
              "    </tr>\n",
              "    <tr>\n",
              "      <th>25021</th>\n",
              "      <td>29b42940997e611f</td>\n",
              "      <td>sounds like a job for a bot i did a search for...</td>\n",
              "    </tr>\n",
              "    <tr>\n",
              "      <th>132336</th>\n",
              "      <td>dd22a0a2be693651</td>\n",
              "      <td>titboobs    tiiiiiiiiitboooooooooooooooobs dic...</td>\n",
              "    </tr>\n",
              "    <tr>\n",
              "      <th>22027</th>\n",
              "      <td>24c3d5dff46db72e</td>\n",
              "      <td>more badass than you already are</td>\n",
              "    </tr>\n",
              "  </tbody>\n",
              "</table>\n",
              "</div>"
            ],
            "text/plain": [
              "                      id                                       comment_text\n",
              "14983   1924559973053cb9         irene marsha silverblatt is a eurocentrist\n",
              "137480  e5d27b2b3d383412  justin wilson is one of the most popular drive...\n",
              "25021   29b42940997e611f  sounds like a job for a bot i did a search for...\n",
              "132336  dd22a0a2be693651  titboobs    tiiiiiiiiitboooooooooooooooobs dic...\n",
              "22027   24c3d5dff46db72e                   more badass than you already are"
            ]
          },
          "metadata": {
            "tags": []
          },
          "execution_count": 25
        }
      ]
    },
    {
      "cell_type": "code",
      "metadata": {
        "id": "YkaPCU3NuKae",
        "colab": {
          "base_uri": "https://localhost:8080/",
          "height": 454
        },
        "outputId": "75706e85-767c-4897-eb14-36dd53a7b964"
      },
      "source": [
        "tokenizer = RegexpTokenizer(r'\\w+')\n",
        "nltk.download('stopwords')\n",
        "stop_words=set(stopwords.words('english'))\n",
        "def remove_stopwords(text):\n",
        "    words= [w for w in text if w not in stopwords.words('english')]\n",
        "    return words\n",
        "\n",
        "train_sample['comment_text'] = [tokenizer.tokenize(sentences) for sentences in train_sample['comment_text']]\n",
        "#train_sample['comment_text'] = train_sample['comment_text'].apply(lambda x : remove_stopwords(x))\n",
        "\n",
        "test_sample['comment_text'] = [tokenizer.tokenize(sentences) for sentences in test_sample['comment_text']]\n",
        "#test_sample['comment_text'] = test_sample['comment_text'].apply(lambda x : remove_stopwords(x))\n",
        "print (train_sample[\"comment_text\"])\n",
        "print (test_sample[\"comment_text\"])"
      ],
      "execution_count": null,
      "outputs": [
        {
          "output_type": "stream",
          "text": [
            "[nltk_data] Downloading package stopwords to /root/nltk_data...\n",
            "[nltk_data]   Package stopwords is already up-to-date!\n",
            "93589     [informal, proof, energy, dependence, since, t...\n",
            "78212     [mm, well, sure, ill, give, it, a, whirl, what...\n",
            "158265        [searching, i, was, able, to, find, a, video]\n",
            "33679     [eleventh, doctor, series, 1, series, 5, serie...\n",
            "120345    [i, would, also, like, to, point, out, that, a...\n",
            "                                ...                        \n",
            "141724    [i, think, we, should, list, it, as, inactive,...\n",
            "42932     [this, is, not, patent, nonsense, i, am, not, ...\n",
            "82831                               [ill, stop, okay, talk]\n",
            "36404     [edit, he, is, now, monitoring, this, entry, o...\n",
            "123964    [hi, and, welcome, to, wilipedia, trivia, is, ...\n",
            "Name: comment_text, Length: 85000, dtype: object\n",
            "14983     [irene, marsha, silverblatt, is, a, eurocentrist]\n",
            "137480    [justin, wilson, is, one, of, the, most, popul...\n",
            "25021     [sounds, like, a, job, for, a, bot, i, did, a,...\n",
            "132336    [titboobs, tiiiiiiiiitboooooooooooooooobs, dic...\n",
            "22027               [more, badass, than, you, already, are]\n",
            "                                ...                        \n",
            "132414    [sock, puppet, swamilive, sock, puppet, swamil...\n",
            "45201     [tagores, nationality, i, do, understand, that...\n",
            "64635     [well, maybe, we, should, get, serious, about,...\n",
            "138999    [actually, as, already, quoted, adal, reached,...\n",
            "51761     [this, is, so, mean, guys, all, i, wanted, to,...\n",
            "Name: comment_text, Length: 70000, dtype: object\n"
          ],
          "name": "stdout"
        }
      ]
    },
    {
      "cell_type": "markdown",
      "metadata": {
        "id": "hHE7mt00vQ_G"
      },
      "source": [
        "Lemmatizing the corpus\n"
      ]
    },
    {
      "cell_type": "code",
      "metadata": {
        "id": "4W0w9fA3vN4a",
        "colab": {
          "base_uri": "https://localhost:8080/",
          "height": 252
        },
        "outputId": "6aaf373b-6436-4496-830e-a55cdf12f2d6"
      },
      "source": [
        "nltk.download('wordnet')\n",
        "lemmatizer = WordNetLemmatizer()\n",
        "def word_lemmatizer(text):\n",
        "    lem_text= [lemmatizer.lemmatize(i) for i in text]\n",
        "    return lem_text \n",
        "train_sample['comment_text'] = train_sample['comment_text'].apply(lambda x : word_lemmatizer(x))\n",
        "test_sample['comment_text'] = test_sample['comment_text'].apply(lambda x : word_lemmatizer(x))\n",
        "print (train_sample['comment_text'])"
      ],
      "execution_count": null,
      "outputs": [
        {
          "output_type": "stream",
          "text": [
            "[nltk_data] Downloading package wordnet to /root/nltk_data...\n",
            "[nltk_data]   Unzipping corpora/wordnet.zip.\n",
            "93589     [informal, proof, energy, dependence, since, t...\n",
            "78212     [mm, well, sure, ill, give, it, a, whirl, what...\n",
            "158265         [searching, i, wa, able, to, find, a, video]\n",
            "33679     [eleventh, doctor, series, 1, series, 5, serie...\n",
            "120345    [i, would, also, like, to, point, out, that, a...\n",
            "                                ...                        \n",
            "141724    [i, think, we, should, list, it, a, inactive, ...\n",
            "42932     [this, is, not, patent, nonsense, i, am, not, ...\n",
            "82831                               [ill, stop, okay, talk]\n",
            "36404     [edit, he, is, now, monitoring, this, entry, o...\n",
            "123964    [hi, and, welcome, to, wilipedia, trivia, is, ...\n",
            "Name: comment_text, Length: 85000, dtype: object\n"
          ],
          "name": "stdout"
        }
      ]
    },
    {
      "cell_type": "code",
      "metadata": {
        "id": "fPgHc6CN_CJf",
        "colab": {
          "base_uri": "https://localhost:8080/",
          "height": 54
        },
        "outputId": "7a36f711-e862-4955-a04b-779cc1cab3b5"
      },
      "source": [
        "import copy\n",
        "train_sentences = train_sample['comment_text'].values.tolist()\n",
        "test_sentences = test_sample['comment_text'].values.tolist()\n",
        "total_sentences = copy.deepcopy(train_sentences)\n",
        "total_sentences.extend(test_sentences)\n",
        "print (train_sentences[0])"
      ],
      "execution_count": null,
      "outputs": [
        {
          "output_type": "stream",
          "text": [
            "['informal', 'proof', 'energy', 'dependence', 'since', 'the', 'distribution', 'of', 'motion', 'doe', 'not', 'depend', 'on', 'the', 'energy', 'shouldnt', 'this', 'instead', 'read', 'since', 'the', 'distribution', 'of', 'motion', 'depends', 'on', 'the', 'energy', 'which', 'is', 'in', 'turn', 'independent', 'of', 'the', 'field']\n"
          ],
          "name": "stdout"
        }
      ]
    },
    {
      "cell_type": "code",
      "metadata": {
        "id": "epfoTlEh_a2D",
        "colab": {
          "base_uri": "https://localhost:8080/",
          "height": 104
        },
        "outputId": "16aa729a-74ee-4e90-c118-9852d359d247"
      },
      "source": [
        "from gensim.models import Word2Vec\n",
        "from sklearn import feature_extraction, linear_model, model_selection, preprocessing\n",
        "from sklearn.feature_extraction.text import CountVectorizer\n",
        "from sklearn.feature_extraction.text import TfidfVectorizer\n",
        "w2v = Word2Vec(total_sentences, size=100, window=5, min_count=1, workers=4)\n",
        "w2v.train(total_sentences,total_examples=len(total_sentences),epochs=10)\n",
        "w1  = \"edit\"\n",
        "print (w2v.wv.most_similar (positive=w1))"
      ],
      "execution_count": null,
      "outputs": [
        {
          "output_type": "stream",
          "text": [
            "WARNING:gensim.models.base_any2vec:Effective 'alpha' higher than previous training cycles\n"
          ],
          "name": "stderr"
        },
        {
          "output_type": "stream",
          "text": [
            "[('edits', 0.6396616697311401), ('paine1776', 0.6392613649368286), ('revert', 0.625147819519043), ('williamite', 0.6056432723999023), ('incidentsthomas', 0.582499623298645), ('seunas', 0.5777773261070251), ('srar', 0.5622091293334961), ('reversion', 0.5489820241928101), ('estebans', 0.5458500981330872), ('95860578', 0.5455988049507141)]\n"
          ],
          "name": "stdout"
        },
        {
          "output_type": "stream",
          "text": [
            "/usr/local/lib/python3.6/dist-packages/gensim/matutils.py:737: FutureWarning: Conversion of the second argument of issubdtype from `int` to `np.signedinteger` is deprecated. In future, it will be treated as `np.int64 == np.dtype(int).type`.\n",
            "  if np.issubdtype(vec.dtype, np.int):\n"
          ],
          "name": "stderr"
        }
      ]
    },
    {
      "cell_type": "code",
      "metadata": {
        "id": "UCOv4sByCp5x"
      },
      "source": [
        "import tensorflow.compat.v1 as tf\n",
        "from keras.utils import to_categorical\n",
        "tf.disable_v2_behavior()\n",
        "nb_words = len(word_index) + 1\n",
        "embed_size = 100"
      ],
      "execution_count": null,
      "outputs": []
    },
    {
      "cell_type": "code",
      "metadata": {
        "id": "g-OyVzL3gpDO",
        "colab": {
          "base_uri": "https://localhost:8080/",
          "height": 269
        },
        "outputId": "996e05ca-5704-437d-d9e0-b964c8a8e12d"
      },
      "source": [
        "embedding_matrix = np.zeros((nb_words, embed_size))\n",
        "for word, i in word_index.items():\n",
        "    if i >= nb_words : continue\n",
        "    if word in w2v.wv.vocab:\n",
        "      embedding_vector = w2v.wv[word]\n",
        "      embedding_matrix[i] = embedding_vector\n",
        "\n",
        "\n",
        "vocab_size = len(embedding_matrix)\n",
        "print (vocab_size)\n",
        "model = tf.keras.models.Sequential()\n",
        "model.add(tf.keras.layers.Embedding(input_dim=vocab_size, \n",
        "                           output_dim = 100,weights=[embedding_matrix] , \n",
        "                           input_length = maxlen, trainable=False))\n",
        "model.add(tf.keras.layers.LSTM(units = 60 ,dropout = 0.2 , recurrent_dropout = 0.2))\n",
        "model.add(tf.keras.layers.Dense(6 , activation='sigmoid'))\n",
        "model.compile(optimizer='adam',\n",
        "              loss='binary_crossentropy',\n",
        "              metrics=['accuracy'])\n",
        "model.summary()"
      ],
      "execution_count": null,
      "outputs": [
        {
          "output_type": "stream",
          "text": [
            "208751\n",
            "Model: \"sequential_2\"\n",
            "_________________________________________________________________\n",
            "Layer (type)                 Output Shape              Param #   \n",
            "=================================================================\n",
            "embedding_2 (Embedding)      (None, 1990, 100)         20875100  \n",
            "_________________________________________________________________\n",
            "lstm_2 (LSTM)                (None, 60)                38640     \n",
            "_________________________________________________________________\n",
            "dense_2 (Dense)              (None, 6)                 366       \n",
            "=================================================================\n",
            "Total params: 20,914,106\n",
            "Trainable params: 39,006\n",
            "Non-trainable params: 20,875,100\n",
            "_________________________________________________________________\n"
          ],
          "name": "stdout"
        }
      ]
    },
    {
      "cell_type": "code",
      "metadata": {
        "id": "C_8aA11ImOTq",
        "colab": {
          "base_uri": "https://localhost:8080/",
          "height": 238
        },
        "outputId": "ab8e3222-75cc-4d07-995c-084ca85cf99d"
      },
      "source": [
        "model.fit(X_train, Y_train, batch_size = 64 , epochs=2, verbose=2 , validation_split=0.2)\n",
        "# evaluate\n",
        "loss, acc = model.evaluate(X_test, Y_test, verbose=1)\n",
        "print('Test Accuracy: %f' % (acc*100))"
      ],
      "execution_count": null,
      "outputs": [
        {
          "output_type": "stream",
          "text": [
            "Train on 47600 samples, validate on 11900 samples\n",
            "Epoch 1/2\n",
            "WARNING:tensorflow:From /usr/local/lib/python3.6/dist-packages/tensorflow/python/keras/engine/training_v1.py:2048: Model.state_updates (from tensorflow.python.keras.engine.training) is deprecated and will be removed in a future version.\n",
            "Instructions for updating:\n",
            "This property should not be used in TensorFlow 2.0, as updates are applied automatically.\n"
          ],
          "name": "stdout"
        },
        {
          "output_type": "stream",
          "text": [
            "WARNING:tensorflow:From /usr/local/lib/python3.6/dist-packages/tensorflow/python/keras/engine/training_v1.py:2048: Model.state_updates (from tensorflow.python.keras.engine.training) is deprecated and will be removed in a future version.\n",
            "Instructions for updating:\n",
            "This property should not be used in TensorFlow 2.0, as updates are applied automatically.\n"
          ],
          "name": "stderr"
        },
        {
          "output_type": "stream",
          "text": [
            "47600/47600 - 2179s - loss: 0.1610 - acc: 0.9611 - val_loss: 0.1428 - val_acc: 0.9630\n",
            "Epoch 2/2\n",
            "47600/47600 - 2181s - loss: 0.1450 - acc: 0.9620 - val_loss: 0.1425 - val_acc: 0.9630\n",
            "Test Accuracy: 96.294814\n"
          ],
          "name": "stdout"
        }
      ]
    },
    {
      "cell_type": "code",
      "metadata": {
        "id": "Wrfr-68S_51m",
        "colab": {
          "base_uri": "https://localhost:8080/",
          "height": 34
        },
        "outputId": "95284ae7-5b7c-4999-e3dd-35bafcc45ab1"
      },
      "source": [
        "print (model.outputs)\n",
        "model.save(\"network.h5\")\n"
      ],
      "execution_count": null,
      "outputs": [
        {
          "output_type": "stream",
          "text": [
            "[<tf.Tensor 'dense_2/Sigmoid:0' shape=(?, 6) dtype=float32>]\n"
          ],
          "name": "stdout"
        }
      ]
    }
  ]
}