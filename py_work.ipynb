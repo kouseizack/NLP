{
  "nbformat": 4,
  "nbformat_minor": 0,
  "metadata": {
    "colab": {
      "name": "py_work.ipynb",
      "provenance": [],
      "collapsed_sections": [],
      "authorship_tag": "ABX9TyOmNDe4V3a2r1LVVpUMDb6K",
      "include_colab_link": true
    },
    "kernelspec": {
      "name": "python3",
      "display_name": "Python 3"
    }
  },
  "cells": [
    {
      "cell_type": "markdown",
      "metadata": {
        "id": "view-in-github",
        "colab_type": "text"
      },
      "source": [
        "<a href=\"https://colab.research.google.com/github/kouseizack/NLP/blob/master/py_work.ipynb\" target=\"_parent\"><img src=\"https://colab.research.google.com/assets/colab-badge.svg\" alt=\"Open In Colab\"/></a>"
      ]
    },
    {
      "cell_type": "code",
      "metadata": {
        "id": "RQeOJy3AbiZW",
        "colab_type": "code",
        "colab": {
          "base_uri": "https://localhost:8080/",
          "height": 55
        },
        "outputId": "e0e3fdc5-d054-4325-f64d-f9394f78984a"
      },
      "source": [
        "from google.colab import drive\n",
        "drive.mount('/content/drive')"
      ],
      "execution_count": 30,
      "outputs": [
        {
          "output_type": "stream",
          "text": [
            "Drive already mounted at /content/drive; to attempt to forcibly remount, call drive.mount(\"/content/drive\", force_remount=True).\n"
          ],
          "name": "stdout"
        }
      ]
    },
    {
      "cell_type": "code",
      "metadata": {
        "id": "56K8RcdNcyI5",
        "colab_type": "code",
        "colab": {
          "base_uri": "https://localhost:8080/",
          "height": 35
        },
        "outputId": "7d0784ee-2181-4051-8b0a-10239eb67bd7"
      },
      "source": [
        "cd /content/drive/My Drive/workpy"
      ],
      "execution_count": 31,
      "outputs": [
        {
          "output_type": "stream",
          "text": [
            "/content/drive/My Drive/workpy\n"
          ],
          "name": "stdout"
        }
      ]
    },
    {
      "cell_type": "code",
      "metadata": {
        "id": "NNHKetA6cjDU",
        "colab_type": "code",
        "colab": {
          "base_uri": "https://localhost:8080/",
          "height": 455
        },
        "outputId": "03c2a4e7-e5e2-4861-cb45-70f999f6c96e"
      },
      "source": [
        "!pip install PyPDF4\n",
        "!pip install tabula-py\n",
        "!pip install pdf2image\n",
        "!apt-get install poppler-utils\n",
        "!pip install pandas"
      ],
      "execution_count": 32,
      "outputs": [
        {
          "output_type": "stream",
          "text": [
            "Requirement already satisfied: PyPDF4 in /usr/local/lib/python3.6/dist-packages (1.27.0)\n",
            "Requirement already satisfied: tabula-py in /usr/local/lib/python3.6/dist-packages (2.1.1)\n",
            "Requirement already satisfied: distro in /usr/local/lib/python3.6/dist-packages (from tabula-py) (1.5.0)\n",
            "Requirement already satisfied: pandas>=0.25.3 in /usr/local/lib/python3.6/dist-packages (from tabula-py) (1.0.5)\n",
            "Requirement already satisfied: numpy in /usr/local/lib/python3.6/dist-packages (from tabula-py) (1.18.5)\n",
            "Requirement already satisfied: python-dateutil>=2.6.1 in /usr/local/lib/python3.6/dist-packages (from pandas>=0.25.3->tabula-py) (2.8.1)\n",
            "Requirement already satisfied: pytz>=2017.2 in /usr/local/lib/python3.6/dist-packages (from pandas>=0.25.3->tabula-py) (2018.9)\n",
            "Requirement already satisfied: six>=1.5 in /usr/local/lib/python3.6/dist-packages (from python-dateutil>=2.6.1->pandas>=0.25.3->tabula-py) (1.15.0)\n",
            "Requirement already satisfied: pdf2image in /usr/local/lib/python3.6/dist-packages (1.13.1)\n",
            "Requirement already satisfied: pillow in /usr/local/lib/python3.6/dist-packages (from pdf2image) (7.0.0)\n",
            "Reading package lists... Done\n",
            "Building dependency tree       \n",
            "Reading state information... Done\n",
            "poppler-utils is already the newest version (0.62.0-2ubuntu2.10).\n",
            "The following package was automatically installed and is no longer required:\n",
            "  libnvidia-common-440\n",
            "Use 'apt autoremove' to remove it.\n",
            "0 upgraded, 0 newly installed, 0 to remove and 35 not upgraded.\n",
            "Requirement already satisfied: pandas in /usr/local/lib/python3.6/dist-packages (1.0.5)\n",
            "Requirement already satisfied: python-dateutil>=2.6.1 in /usr/local/lib/python3.6/dist-packages (from pandas) (2.8.1)\n",
            "Requirement already satisfied: pytz>=2017.2 in /usr/local/lib/python3.6/dist-packages (from pandas) (2018.9)\n",
            "Requirement already satisfied: numpy>=1.13.3 in /usr/local/lib/python3.6/dist-packages (from pandas) (1.18.5)\n",
            "Requirement already satisfied: six>=1.5 in /usr/local/lib/python3.6/dist-packages (from python-dateutil>=2.6.1->pandas) (1.15.0)\n"
          ],
          "name": "stdout"
        }
      ]
    },
    {
      "cell_type": "code",
      "metadata": {
        "id": "7xttjscpdi-I",
        "colab_type": "code",
        "colab": {}
      },
      "source": [
        "#Remove watermark from the image\n",
        "def removeWatermark(wm_text, inputFile, outputFile):\n",
        "    from PyPDF4 import PdfFileReader, PdfFileWriter\n",
        "    from PyPDF4.pdf import ContentStream\n",
        "    from PyPDF4.generic import TextStringObject, NameObject\n",
        "    from PyPDF4.utils import b_\n",
        "\n",
        "    with open(inputFile, \"rb\") as f:\n",
        "        source = PdfFileReader(f, \"rb\")\n",
        "        output = PdfFileWriter()\n",
        "\n",
        "        for page in range(source.getNumPages()):\n",
        "            page = source.getPage(page)\n",
        "            content_object = page[\"/Contents\"].getObject()\n",
        "            content = ContentStream(content_object, source)\n",
        "\n",
        "            for operands, operator in content.operations:\n",
        "                if operator == b_(\"Tj\"):\n",
        "                    text = operands[0]\n",
        "\n",
        "                    if isinstance(text, str) and text.startswith(wm_text):\n",
        "                        operands[0] = TextStringObject('')\n",
        "\n",
        "            page.__setitem__(NameObject('/Contents'), content)\n",
        "            output.addPage(page)\n",
        "\n",
        "        with open(outputFile, \"wb\") as outputStream:\n",
        "            output.write(outputStream)\n",
        "\n",
        "wm_text = 'EBanking'\n",
        "inputFile = r'canopy_technical_test_input.pdf'\n",
        "outputFile = r\"output.pdf\"\n",
        "removeWatermark(wm_text, inputFile, outputFile)"
      ],
      "execution_count": 33,
      "outputs": []
    },
    {
      "cell_type": "code",
      "metadata": {
        "id": "0tsM09M8EYmC",
        "colab_type": "code",
        "colab": {
          "base_uri": "https://localhost:8080/",
          "height": 183
        },
        "outputId": "6cf6a8f4-3566-4885-9ae1-458ae8781392"
      },
      "source": [
        "'''Use tabula to read table content.\n",
        "    Process data frame to be converted to excrel later'''\n",
        "from tabula import read_pdf\n",
        "import pandas as pd\n",
        "df = read_pdf(\"output.pdf\")\n",
        "\n",
        "df[0].loc[0, \"Booking Details\"]\n",
        "labels = {df[0].iloc[0 , i]:[] for i in range(len(df[0].columns))}\n",
        "print (labels)\n",
        "\n",
        "for j in range(1 , len(df[0])):\n",
        "  for k in range(len(df[0].columns)):\n",
        "    if(k == 0):\n",
        "      if(not pd.isnull(df[0].iloc[j , k])):\n",
        "        labels[\"Booking Date\"].append(df[0].iloc[j , k])\n",
        "    if(k == 1):\n",
        "      if(not pd.isnull(df[0].iloc[j , k])):\n",
        "        labels[\"Txn Date\"].append(df[0].iloc[j , k])\n",
        "    if(k == 2):\n",
        "      if(pd.isnull(df[0].iloc[j , 0])):\n",
        "        labels[\"Booking Text\"][-1] += df[0].iloc[j , k]\n",
        "      else:\n",
        "        labels[\"Booking Text\"].append(df[0].iloc[j , k])\n",
        "    if(k == 3):\n",
        "      if(not pd.isnull(df[0].iloc[j , 0])):\n",
        "        if(pd.isnull(df[0].iloc[j , k])):\n",
        "          labels[\"Value Date\"].append(\"\")\n",
        "        else:\n",
        "          labels[\"Value Date\"].append(df[0].iloc[j , k])\n",
        "    if(k == 4):\n",
        "      if(not pd.isnull(df[0].iloc[j , 0])):\n",
        "        if(pd.isnull(df[0].iloc[j , k])):\n",
        "          labels[\"Debit\"].append(\"\")\n",
        "        else:\n",
        "          labels[\"Debit\"].append(df[0].iloc[j , k])\n",
        "    if(k == 5):\n",
        "      if(not pd.isnull(df[0].iloc[j , 0])):\n",
        "        if(pd.isnull(df[0].iloc[j , k])):\n",
        "          labels[\"Credit\"].append(\"\")\n",
        "        else:\n",
        "          labels[\"Credit\"].append(df[0].iloc[j , k])\n",
        "    if(k == 6):\n",
        "      if(not pd.isnull(df[0].iloc[j , 0])):\n",
        "        if(pd.isnull(df[0].iloc[j , k])):\n",
        "          labels[\"Balance\"].append(\"\")\n",
        "        else:\n",
        "          labels[\"Balance\"].append(df[0].iloc[j , k])\n",
        "  \n",
        "print (labels)"
      ],
      "execution_count": 34,
      "outputs": [
        {
          "output_type": "stream",
          "text": [
            "'pages' argument isn't specified.Will extract only from page 1 by default.\n",
            "Got stderr: Aug 14, 2020 12:19:47 PM org.apache.pdfbox.pdmodel.font.PDType1Font <init>\n",
            "WARNING: Using fallback font LiberationSans for base font Symbol\n",
            "Aug 14, 2020 12:19:47 PM org.apache.pdfbox.pdmodel.font.PDType1Font <init>\n",
            "WARNING: Using fallback font LiberationSans for base font ZapfDingbats\n",
            "\n"
          ],
          "name": "stderr"
        },
        {
          "output_type": "stream",
          "text": [
            "{'Booking Date': [], 'Txn Date': [], 'Booking Text': [], 'Value Date': [], 'Debit': [], 'Credit': [], 'Balance': []}\n",
            "{'Booking Date': ['31.03.2018', '01.04.2018', '06.04.2018', '06.04.2018', '06.04.2018', '06.04.2018', '09.04.2018', '09.04.2018', '10.04.2018', '10.04.2018'], 'Txn Date': ['31.03.2018', '01.04.2018', '06.04.2018', '06.04.2018', '06.04.2018', '06.04.2018', '09.04.2018', '09.04.2018', '10.04.2018', '10.04.2018'], 'Booking Text': ['Initial Balance', 'VALUE DATED BALANCE BROUGHT FORWARD', 'INTEREST-FIXED TERM LOANContract No: 3001-AA18091ZN72C|Interest rate:0.810000%|Capital: 1,000,000,000.00|Period: 16.03.2018 -06.04.2018|Days: 21/360', 'INTEREST-FIXED TERM LOANContract No: 3001-AA1809166QNF|Interest rate:0.810000%|Capital: 1,000,000,000.00|Period: 23.03.2018 -06.04.2018|Days: 14/360', 'FOREX SPOTEUR/JPY 130.7271', 'FOREX SPOTEUR/JPY 130.7021', 'INTEREST-FIXED TERM LOANContract No: 3001-AA18091NTT8N|Interest rate:0.810000%|Capital: 500,000,000.00|Period: 26.03.2018 -09.04.2018|Days: 14/360', 'FOREX SPOTEUR/JPY 131.1407', 'INTEREST-FIXED TERM LOANContract No: 3001-AA18091NL9XG|Interest rate:0.810000%|Capital: 500,000,000.00|Period: 27.03.2018 -10.04.2018|Days: 14/360', 'FOREX SPOT'], 'Value Date': ['', '01.04.2018', '06.04.2018', '06.04.2018', '06.04.2018', '06.04.2018', '09.04.2018', '09.04.2018', '10.04.2018', '10.04.2018'], 'Debit': ['', '', '472,500.00', '315,000.00', '', '', '157,500.00', '', '157,500.00', ''], 'Credit': ['', '180,431,640.00', '', '', '472,500.00', '315,000.00', '', '157,500.00', '', '157,500.00'], 'Balance': ['0.00', '180,431,640.00', '179,959,140.00', '179,644,140.00', '180,116,640.00', '180,431,640.00', '180,274,140.00', '180,431,640.00', '180,274,140.00', '180,431,640.00']}\n"
          ],
          "name": "stdout"
        }
      ]
    },
    {
      "cell_type": "code",
      "metadata": {
        "id": "Ulv-aYSXrnUM",
        "colab_type": "code",
        "colab": {
          "base_uri": "https://localhost:8080/",
          "height": 348
        },
        "outputId": "0f2595a1-415d-4908-b7cd-5d2280f4dbf3"
      },
      "source": [
        "#Convert dataframe to excel and save in output.xlsx\n",
        "import pandas as pd\n",
        "df = pd.DataFrame(labels)\n",
        "df.to_excel(\"output.xlsx\") \n",
        "df"
      ],
      "execution_count": 36,
      "outputs": [
        {
          "output_type": "execute_result",
          "data": {
            "text/html": [
              "<div>\n",
              "<style scoped>\n",
              "    .dataframe tbody tr th:only-of-type {\n",
              "        vertical-align: middle;\n",
              "    }\n",
              "\n",
              "    .dataframe tbody tr th {\n",
              "        vertical-align: top;\n",
              "    }\n",
              "\n",
              "    .dataframe thead th {\n",
              "        text-align: right;\n",
              "    }\n",
              "</style>\n",
              "<table border=\"1\" class=\"dataframe\">\n",
              "  <thead>\n",
              "    <tr style=\"text-align: right;\">\n",
              "      <th></th>\n",
              "      <th>Booking Date</th>\n",
              "      <th>Txn Date</th>\n",
              "      <th>Booking Text</th>\n",
              "      <th>Value Date</th>\n",
              "      <th>Debit</th>\n",
              "      <th>Credit</th>\n",
              "      <th>Balance</th>\n",
              "    </tr>\n",
              "  </thead>\n",
              "  <tbody>\n",
              "    <tr>\n",
              "      <th>0</th>\n",
              "      <td>31.03.2018</td>\n",
              "      <td>31.03.2018</td>\n",
              "      <td>Initial Balance</td>\n",
              "      <td></td>\n",
              "      <td></td>\n",
              "      <td></td>\n",
              "      <td>0.00</td>\n",
              "    </tr>\n",
              "    <tr>\n",
              "      <th>1</th>\n",
              "      <td>01.04.2018</td>\n",
              "      <td>01.04.2018</td>\n",
              "      <td>VALUE DATED BALANCE BROUGHT FORWARD</td>\n",
              "      <td>01.04.2018</td>\n",
              "      <td></td>\n",
              "      <td>180,431,640.00</td>\n",
              "      <td>180,431,640.00</td>\n",
              "    </tr>\n",
              "    <tr>\n",
              "      <th>2</th>\n",
              "      <td>06.04.2018</td>\n",
              "      <td>06.04.2018</td>\n",
              "      <td>INTEREST-FIXED TERM LOANContract No: 3001-AA18...</td>\n",
              "      <td>06.04.2018</td>\n",
              "      <td>472,500.00</td>\n",
              "      <td></td>\n",
              "      <td>179,959,140.00</td>\n",
              "    </tr>\n",
              "    <tr>\n",
              "      <th>3</th>\n",
              "      <td>06.04.2018</td>\n",
              "      <td>06.04.2018</td>\n",
              "      <td>INTEREST-FIXED TERM LOANContract No: 3001-AA18...</td>\n",
              "      <td>06.04.2018</td>\n",
              "      <td>315,000.00</td>\n",
              "      <td></td>\n",
              "      <td>179,644,140.00</td>\n",
              "    </tr>\n",
              "    <tr>\n",
              "      <th>4</th>\n",
              "      <td>06.04.2018</td>\n",
              "      <td>06.04.2018</td>\n",
              "      <td>FOREX SPOTEUR/JPY 130.7271</td>\n",
              "      <td>06.04.2018</td>\n",
              "      <td></td>\n",
              "      <td>472,500.00</td>\n",
              "      <td>180,116,640.00</td>\n",
              "    </tr>\n",
              "    <tr>\n",
              "      <th>5</th>\n",
              "      <td>06.04.2018</td>\n",
              "      <td>06.04.2018</td>\n",
              "      <td>FOREX SPOTEUR/JPY 130.7021</td>\n",
              "      <td>06.04.2018</td>\n",
              "      <td></td>\n",
              "      <td>315,000.00</td>\n",
              "      <td>180,431,640.00</td>\n",
              "    </tr>\n",
              "    <tr>\n",
              "      <th>6</th>\n",
              "      <td>09.04.2018</td>\n",
              "      <td>09.04.2018</td>\n",
              "      <td>INTEREST-FIXED TERM LOANContract No: 3001-AA18...</td>\n",
              "      <td>09.04.2018</td>\n",
              "      <td>157,500.00</td>\n",
              "      <td></td>\n",
              "      <td>180,274,140.00</td>\n",
              "    </tr>\n",
              "    <tr>\n",
              "      <th>7</th>\n",
              "      <td>09.04.2018</td>\n",
              "      <td>09.04.2018</td>\n",
              "      <td>FOREX SPOTEUR/JPY 131.1407</td>\n",
              "      <td>09.04.2018</td>\n",
              "      <td></td>\n",
              "      <td>157,500.00</td>\n",
              "      <td>180,431,640.00</td>\n",
              "    </tr>\n",
              "    <tr>\n",
              "      <th>8</th>\n",
              "      <td>10.04.2018</td>\n",
              "      <td>10.04.2018</td>\n",
              "      <td>INTEREST-FIXED TERM LOANContract No: 3001-AA18...</td>\n",
              "      <td>10.04.2018</td>\n",
              "      <td>157,500.00</td>\n",
              "      <td></td>\n",
              "      <td>180,274,140.00</td>\n",
              "    </tr>\n",
              "    <tr>\n",
              "      <th>9</th>\n",
              "      <td>10.04.2018</td>\n",
              "      <td>10.04.2018</td>\n",
              "      <td>FOREX SPOT</td>\n",
              "      <td>10.04.2018</td>\n",
              "      <td></td>\n",
              "      <td>157,500.00</td>\n",
              "      <td>180,431,640.00</td>\n",
              "    </tr>\n",
              "  </tbody>\n",
              "</table>\n",
              "</div>"
            ],
            "text/plain": [
              "  Booking Date    Txn Date  ...          Credit         Balance\n",
              "0   31.03.2018  31.03.2018  ...                            0.00\n",
              "1   01.04.2018  01.04.2018  ...  180,431,640.00  180,431,640.00\n",
              "2   06.04.2018  06.04.2018  ...                  179,959,140.00\n",
              "3   06.04.2018  06.04.2018  ...                  179,644,140.00\n",
              "4   06.04.2018  06.04.2018  ...      472,500.00  180,116,640.00\n",
              "5   06.04.2018  06.04.2018  ...      315,000.00  180,431,640.00\n",
              "6   09.04.2018  09.04.2018  ...                  180,274,140.00\n",
              "7   09.04.2018  09.04.2018  ...      157,500.00  180,431,640.00\n",
              "8   10.04.2018  10.04.2018  ...                  180,274,140.00\n",
              "9   10.04.2018  10.04.2018  ...      157,500.00  180,431,640.00\n",
              "\n",
              "[10 rows x 7 columns]"
            ]
          },
          "metadata": {
            "tags": []
          },
          "execution_count": 36
        }
      ]
    }
  ]
}